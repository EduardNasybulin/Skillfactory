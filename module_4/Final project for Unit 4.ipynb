{
 "cells": [
  {
   "cell_type": "code",
   "execution_count": 47,
   "id": "cab3ddcc",
   "metadata": {},
   "outputs": [],
   "source": [
    "from pandas import Series\n",
    "import pandas as pd\n",
    "import numpy as np\n",
    "\n",
    "\n",
    "import matplotlib.pyplot as plt\n",
    "import seaborn as sns\n",
    "\n",
    "from sklearn.feature_selection import f_classif, mutual_info_classif\n",
    "from sklearn.preprocessing import LabelEncoder, OneHotEncoder, StandardScaler, MinMaxScaler\n",
    "\n",
    "from sklearn.model_selection import train_test_split\n",
    "from sklearn.linear_model import LogisticRegression\n",
    "\n",
    "from sklearn import metrics\n",
    "from sklearn.metrics import accuracy_score, precision_score, recall_score, f1_score\n",
    "from sklearn.metrics import confusion_matrix\n",
    "from sklearn.metrics import auc, roc_auc_score, roc_curve\n",
    "\n",
    "import warnings\n",
    "warnings.filterwarnings('ignore')"
   ]
  },
  {
   "cell_type": "code",
   "execution_count": 48,
   "id": "bb2c10d0",
   "metadata": {},
   "outputs": [],
   "source": [
    "def plot_hist(features): # Построение гистограм\n",
    "    for feature in features:\n",
    "        plt.figure(figsize=(6,3))\n",
    "        display(features[feature].hist())\n",
    "        plt.title(feature)\n",
    "        \n",
    "def plot_boxplots(features): # Построение boxpots\n",
    "    for feature in features:\n",
    "        plt.figure(figsize=(6,3))\n",
    "        sns.boxplot(features[feature], color = 'blue')\n",
    "        print('Среднее значение {} = {:.3f}'.format(feature, features[feature].mean()))\n",
    "\n",
    "def plot_corr_heatmap(features): # Построение корреляционой матрицы с наложением heatmap \n",
    "    def magnify():\n",
    "        return [dict(selector=\"th\",\n",
    "                 props=[(\"font-size\", \"7pt\")]),\n",
    "            dict(selector=\"td\",\n",
    "                 props=[('padding', \"0em 0em\")]),\n",
    "            dict(selector=\"th:hover\",\n",
    "                 props=[(\"font-size\", \"12pt\")]),\n",
    "            dict(selector=\"tr:hover td:hover\",\n",
    "                 props=[('max-width', '200px'),\n",
    "                        ('font-size', '12pt')])]\n",
    "\n",
    "    corr = features.corr()\n",
    "\n",
    "    cmap = sns.diverging_palette(5, 250, as_cmap=True)\n",
    "\n",
    "    display(corr.style.background_gradient(cmap, axis=1)\\\n",
    "        .set_properties(**{'max-width': '80px', 'font-size': '10pt'})\\\n",
    "        .set_caption(\"Hover to magnify\")\\\n",
    "        .set_precision(2)\\\n",
    "        .set_table_styles(magnify()))\n",
    "    \n",
    "def plot_feature_ranking(features): # Определение наиболее весомых признаков\n",
    "    imp_num = pd.Series(f_classif(features, df['default'])[0], \n",
    "                    index = features.columns)\n",
    "    imp_num.sort_values(inplace = True)\n",
    "    print(imp_num)\n",
    "    imp_num.plot(kind = 'barh')\n",
    "    \n",
    "def outliers_iqr(col): #Избавление числового признака от выбросов\n",
    "        quartile_1, quartile_3 = np.percentile(list(col), [25, 75])\n",
    "        iqr = quartile_3 - quartile_1\n",
    "        lower_bound = quartile_1 - (iqr * 1.5)\n",
    "        upper_bound = quartile_3 + (iqr * 1.5)\n",
    "        return df[col < upper_bound][col > lower_bound]\n",
    "\n",
    "def education_to_int(item):\n",
    "    if item == 'SCH':\n",
    "        return 1\n",
    "    elif item == 'UGR':\n",
    "        return 2\n",
    "    elif item == 'GRD':\n",
    "        return 3\n",
    "    elif item == 'PGR':\n",
    "        return 4\n",
    "    elif item == 'ACD':\n",
    "        return 5"
   ]
  },
  {
   "cell_type": "markdown",
   "id": "487bd6d7",
   "metadata": {},
   "source": [
    "# Первичный анализ сырых данных"
   ]
  },
  {
   "cell_type": "code",
   "execution_count": 49,
   "id": "79bd66cd",
   "metadata": {
    "scrolled": true
   },
   "outputs": [
    {
     "data": {
      "text/html": [
       "<div>\n",
       "<style scoped>\n",
       "    .dataframe tbody tr th:only-of-type {\n",
       "        vertical-align: middle;\n",
       "    }\n",
       "\n",
       "    .dataframe tbody tr th {\n",
       "        vertical-align: top;\n",
       "    }\n",
       "\n",
       "    .dataframe thead th {\n",
       "        text-align: right;\n",
       "    }\n",
       "</style>\n",
       "<table border=\"1\" class=\"dataframe\">\n",
       "  <thead>\n",
       "    <tr style=\"text-align: right;\">\n",
       "      <th></th>\n",
       "      <th>client_id</th>\n",
       "      <th>app_date</th>\n",
       "      <th>education</th>\n",
       "      <th>sex</th>\n",
       "      <th>age</th>\n",
       "      <th>car</th>\n",
       "      <th>car_type</th>\n",
       "      <th>decline_app_cnt</th>\n",
       "      <th>good_work</th>\n",
       "      <th>score_bki</th>\n",
       "      <th>bki_request_cnt</th>\n",
       "      <th>region_rating</th>\n",
       "      <th>home_address</th>\n",
       "      <th>work_address</th>\n",
       "      <th>income</th>\n",
       "      <th>sna</th>\n",
       "      <th>first_time</th>\n",
       "      <th>foreign_passport</th>\n",
       "      <th>default</th>\n",
       "    </tr>\n",
       "  </thead>\n",
       "  <tbody>\n",
       "    <tr>\n",
       "      <th>0</th>\n",
       "      <td>25905</td>\n",
       "      <td>01FEB2014</td>\n",
       "      <td>SCH</td>\n",
       "      <td>M</td>\n",
       "      <td>62</td>\n",
       "      <td>Y</td>\n",
       "      <td>Y</td>\n",
       "      <td>0</td>\n",
       "      <td>0</td>\n",
       "      <td>-2.008753</td>\n",
       "      <td>1</td>\n",
       "      <td>50</td>\n",
       "      <td>1</td>\n",
       "      <td>2</td>\n",
       "      <td>18000</td>\n",
       "      <td>4</td>\n",
       "      <td>1</td>\n",
       "      <td>N</td>\n",
       "      <td>0</td>\n",
       "    </tr>\n",
       "    <tr>\n",
       "      <th>1</th>\n",
       "      <td>63161</td>\n",
       "      <td>12MAR2014</td>\n",
       "      <td>SCH</td>\n",
       "      <td>F</td>\n",
       "      <td>59</td>\n",
       "      <td>N</td>\n",
       "      <td>N</td>\n",
       "      <td>0</td>\n",
       "      <td>0</td>\n",
       "      <td>-1.532276</td>\n",
       "      <td>3</td>\n",
       "      <td>50</td>\n",
       "      <td>2</td>\n",
       "      <td>3</td>\n",
       "      <td>19000</td>\n",
       "      <td>4</td>\n",
       "      <td>1</td>\n",
       "      <td>N</td>\n",
       "      <td>0</td>\n",
       "    </tr>\n",
       "    <tr>\n",
       "      <th>2</th>\n",
       "      <td>25887</td>\n",
       "      <td>01FEB2014</td>\n",
       "      <td>SCH</td>\n",
       "      <td>M</td>\n",
       "      <td>25</td>\n",
       "      <td>Y</td>\n",
       "      <td>N</td>\n",
       "      <td>2</td>\n",
       "      <td>0</td>\n",
       "      <td>-1.408142</td>\n",
       "      <td>1</td>\n",
       "      <td>80</td>\n",
       "      <td>1</td>\n",
       "      <td>2</td>\n",
       "      <td>30000</td>\n",
       "      <td>1</td>\n",
       "      <td>4</td>\n",
       "      <td>Y</td>\n",
       "      <td>0</td>\n",
       "    </tr>\n",
       "    <tr>\n",
       "      <th>3</th>\n",
       "      <td>16222</td>\n",
       "      <td>23JAN2014</td>\n",
       "      <td>SCH</td>\n",
       "      <td>F</td>\n",
       "      <td>53</td>\n",
       "      <td>N</td>\n",
       "      <td>N</td>\n",
       "      <td>0</td>\n",
       "      <td>0</td>\n",
       "      <td>-2.057471</td>\n",
       "      <td>2</td>\n",
       "      <td>50</td>\n",
       "      <td>2</td>\n",
       "      <td>3</td>\n",
       "      <td>10000</td>\n",
       "      <td>1</td>\n",
       "      <td>3</td>\n",
       "      <td>N</td>\n",
       "      <td>0</td>\n",
       "    </tr>\n",
       "    <tr>\n",
       "      <th>4</th>\n",
       "      <td>101655</td>\n",
       "      <td>18APR2014</td>\n",
       "      <td>GRD</td>\n",
       "      <td>M</td>\n",
       "      <td>48</td>\n",
       "      <td>N</td>\n",
       "      <td>N</td>\n",
       "      <td>0</td>\n",
       "      <td>1</td>\n",
       "      <td>-1.244723</td>\n",
       "      <td>1</td>\n",
       "      <td>60</td>\n",
       "      <td>2</td>\n",
       "      <td>3</td>\n",
       "      <td>30000</td>\n",
       "      <td>1</td>\n",
       "      <td>4</td>\n",
       "      <td>Y</td>\n",
       "      <td>0</td>\n",
       "    </tr>\n",
       "    <tr>\n",
       "      <th>5</th>\n",
       "      <td>41415</td>\n",
       "      <td>18FEB2014</td>\n",
       "      <td>SCH</td>\n",
       "      <td>M</td>\n",
       "      <td>27</td>\n",
       "      <td>Y</td>\n",
       "      <td>N</td>\n",
       "      <td>0</td>\n",
       "      <td>1</td>\n",
       "      <td>-2.032257</td>\n",
       "      <td>0</td>\n",
       "      <td>50</td>\n",
       "      <td>1</td>\n",
       "      <td>1</td>\n",
       "      <td>15000</td>\n",
       "      <td>2</td>\n",
       "      <td>3</td>\n",
       "      <td>N</td>\n",
       "      <td>0</td>\n",
       "    </tr>\n",
       "    <tr>\n",
       "      <th>6</th>\n",
       "      <td>28436</td>\n",
       "      <td>04FEB2014</td>\n",
       "      <td>SCH</td>\n",
       "      <td>M</td>\n",
       "      <td>39</td>\n",
       "      <td>N</td>\n",
       "      <td>N</td>\n",
       "      <td>0</td>\n",
       "      <td>0</td>\n",
       "      <td>-2.225004</td>\n",
       "      <td>0</td>\n",
       "      <td>60</td>\n",
       "      <td>1</td>\n",
       "      <td>2</td>\n",
       "      <td>28000</td>\n",
       "      <td>1</td>\n",
       "      <td>1</td>\n",
       "      <td>N</td>\n",
       "      <td>0</td>\n",
       "    </tr>\n",
       "    <tr>\n",
       "      <th>7</th>\n",
       "      <td>68769</td>\n",
       "      <td>17MAR2014</td>\n",
       "      <td>SCH</td>\n",
       "      <td>F</td>\n",
       "      <td>39</td>\n",
       "      <td>N</td>\n",
       "      <td>N</td>\n",
       "      <td>0</td>\n",
       "      <td>0</td>\n",
       "      <td>-1.522739</td>\n",
       "      <td>1</td>\n",
       "      <td>50</td>\n",
       "      <td>2</td>\n",
       "      <td>3</td>\n",
       "      <td>45000</td>\n",
       "      <td>3</td>\n",
       "      <td>3</td>\n",
       "      <td>N</td>\n",
       "      <td>0</td>\n",
       "    </tr>\n",
       "    <tr>\n",
       "      <th>8</th>\n",
       "      <td>38424</td>\n",
       "      <td>14FEB2014</td>\n",
       "      <td>SCH</td>\n",
       "      <td>F</td>\n",
       "      <td>50</td>\n",
       "      <td>Y</td>\n",
       "      <td>N</td>\n",
       "      <td>1</td>\n",
       "      <td>0</td>\n",
       "      <td>-1.676061</td>\n",
       "      <td>0</td>\n",
       "      <td>50</td>\n",
       "      <td>1</td>\n",
       "      <td>1</td>\n",
       "      <td>30000</td>\n",
       "      <td>1</td>\n",
       "      <td>4</td>\n",
       "      <td>N</td>\n",
       "      <td>0</td>\n",
       "    </tr>\n",
       "    <tr>\n",
       "      <th>9</th>\n",
       "      <td>4496</td>\n",
       "      <td>10JAN2014</td>\n",
       "      <td>UGR</td>\n",
       "      <td>F</td>\n",
       "      <td>54</td>\n",
       "      <td>N</td>\n",
       "      <td>N</td>\n",
       "      <td>0</td>\n",
       "      <td>0</td>\n",
       "      <td>-2.695176</td>\n",
       "      <td>1</td>\n",
       "      <td>50</td>\n",
       "      <td>2</td>\n",
       "      <td>3</td>\n",
       "      <td>24000</td>\n",
       "      <td>1</td>\n",
       "      <td>3</td>\n",
       "      <td>N</td>\n",
       "      <td>0</td>\n",
       "    </tr>\n",
       "  </tbody>\n",
       "</table>\n",
       "</div>"
      ],
      "text/plain": [
       "   client_id   app_date education sex  age car car_type  decline_app_cnt  \\\n",
       "0      25905  01FEB2014       SCH   M   62   Y        Y                0   \n",
       "1      63161  12MAR2014       SCH   F   59   N        N                0   \n",
       "2      25887  01FEB2014       SCH   M   25   Y        N                2   \n",
       "3      16222  23JAN2014       SCH   F   53   N        N                0   \n",
       "4     101655  18APR2014       GRD   M   48   N        N                0   \n",
       "5      41415  18FEB2014       SCH   M   27   Y        N                0   \n",
       "6      28436  04FEB2014       SCH   M   39   N        N                0   \n",
       "7      68769  17MAR2014       SCH   F   39   N        N                0   \n",
       "8      38424  14FEB2014       SCH   F   50   Y        N                1   \n",
       "9       4496  10JAN2014       UGR   F   54   N        N                0   \n",
       "\n",
       "   good_work  score_bki  bki_request_cnt  region_rating  home_address  \\\n",
       "0          0  -2.008753                1             50             1   \n",
       "1          0  -1.532276                3             50             2   \n",
       "2          0  -1.408142                1             80             1   \n",
       "3          0  -2.057471                2             50             2   \n",
       "4          1  -1.244723                1             60             2   \n",
       "5          1  -2.032257                0             50             1   \n",
       "6          0  -2.225004                0             60             1   \n",
       "7          0  -1.522739                1             50             2   \n",
       "8          0  -1.676061                0             50             1   \n",
       "9          0  -2.695176                1             50             2   \n",
       "\n",
       "   work_address  income  sna  first_time foreign_passport  default  \n",
       "0             2   18000    4           1                N        0  \n",
       "1             3   19000    4           1                N        0  \n",
       "2             2   30000    1           4                Y        0  \n",
       "3             3   10000    1           3                N        0  \n",
       "4             3   30000    1           4                Y        0  \n",
       "5             1   15000    2           3                N        0  \n",
       "6             2   28000    1           1                N        0  \n",
       "7             3   45000    3           3                N        0  \n",
       "8             1   30000    1           4                N        0  \n",
       "9             3   24000    1           3                N        0  "
      ]
     },
     "execution_count": 49,
     "metadata": {},
     "output_type": "execute_result"
    }
   ],
   "source": [
    "df = pd.read_csv('C:/Users/enasy/Downloads/Project/train.csv')\n",
    "df.head(10)"
   ]
  },
  {
   "cell_type": "code",
   "execution_count": 50,
   "id": "89e2146f",
   "metadata": {},
   "outputs": [
    {
     "name": "stdout",
     "output_type": "stream",
     "text": [
      "<class 'pandas.core.frame.DataFrame'>\n",
      "RangeIndex: 73799 entries, 0 to 73798\n",
      "Data columns (total 19 columns):\n",
      " #   Column            Non-Null Count  Dtype  \n",
      "---  ------            --------------  -----  \n",
      " 0   client_id         73799 non-null  int64  \n",
      " 1   app_date          73799 non-null  object \n",
      " 2   education         73492 non-null  object \n",
      " 3   sex               73799 non-null  object \n",
      " 4   age               73799 non-null  int64  \n",
      " 5   car               73799 non-null  object \n",
      " 6   car_type          73799 non-null  object \n",
      " 7   decline_app_cnt   73799 non-null  int64  \n",
      " 8   good_work         73799 non-null  int64  \n",
      " 9   score_bki         73799 non-null  float64\n",
      " 10  bki_request_cnt   73799 non-null  int64  \n",
      " 11  region_rating     73799 non-null  int64  \n",
      " 12  home_address      73799 non-null  int64  \n",
      " 13  work_address      73799 non-null  int64  \n",
      " 14  income            73799 non-null  int64  \n",
      " 15  sna               73799 non-null  int64  \n",
      " 16  first_time        73799 non-null  int64  \n",
      " 17  foreign_passport  73799 non-null  object \n",
      " 18  default           73799 non-null  int64  \n",
      "dtypes: float64(1), int64(12), object(6)\n",
      "memory usage: 10.7+ MB\n"
     ]
    }
   ],
   "source": [
    "df.info()"
   ]
  },
  {
   "cell_type": "code",
   "execution_count": 51,
   "id": "b7a944f3",
   "metadata": {
    "scrolled": true
   },
   "outputs": [
    {
     "data": {
      "text/html": [
       "<div>\n",
       "<style scoped>\n",
       "    .dataframe tbody tr th:only-of-type {\n",
       "        vertical-align: middle;\n",
       "    }\n",
       "\n",
       "    .dataframe tbody tr th {\n",
       "        vertical-align: top;\n",
       "    }\n",
       "\n",
       "    .dataframe thead th {\n",
       "        text-align: right;\n",
       "    }\n",
       "</style>\n",
       "<table border=\"1\" class=\"dataframe\">\n",
       "  <thead>\n",
       "    <tr style=\"text-align: right;\">\n",
       "      <th></th>\n",
       "      <th>client_id</th>\n",
       "      <th>age</th>\n",
       "      <th>decline_app_cnt</th>\n",
       "      <th>good_work</th>\n",
       "      <th>score_bki</th>\n",
       "      <th>bki_request_cnt</th>\n",
       "      <th>region_rating</th>\n",
       "      <th>home_address</th>\n",
       "      <th>work_address</th>\n",
       "      <th>income</th>\n",
       "      <th>sna</th>\n",
       "      <th>first_time</th>\n",
       "      <th>default</th>\n",
       "    </tr>\n",
       "  </thead>\n",
       "  <tbody>\n",
       "    <tr>\n",
       "      <th>count</th>\n",
       "      <td>73799.000000</td>\n",
       "      <td>73799.000000</td>\n",
       "      <td>73799.000000</td>\n",
       "      <td>73799.000000</td>\n",
       "      <td>73799.000000</td>\n",
       "      <td>73799.000000</td>\n",
       "      <td>73799.000000</td>\n",
       "      <td>73799.000000</td>\n",
       "      <td>73799.000000</td>\n",
       "      <td>73799.000000</td>\n",
       "      <td>73799.000000</td>\n",
       "      <td>73799.000000</td>\n",
       "      <td>73799.000000</td>\n",
       "    </tr>\n",
       "    <tr>\n",
       "      <th>mean</th>\n",
       "      <td>55137.965094</td>\n",
       "      <td>39.280641</td>\n",
       "      <td>0.275749</td>\n",
       "      <td>0.164894</td>\n",
       "      <td>-1.904724</td>\n",
       "      <td>2.000339</td>\n",
       "      <td>56.725701</td>\n",
       "      <td>1.575509</td>\n",
       "      <td>2.496280</td>\n",
       "      <td>41099.775417</td>\n",
       "      <td>1.733330</td>\n",
       "      <td>2.765458</td>\n",
       "      <td>0.126994</td>\n",
       "    </tr>\n",
       "    <tr>\n",
       "      <th>std</th>\n",
       "      <td>31841.921168</td>\n",
       "      <td>11.520378</td>\n",
       "      <td>0.804272</td>\n",
       "      <td>0.371087</td>\n",
       "      <td>0.498231</td>\n",
       "      <td>2.252073</td>\n",
       "      <td>13.055717</td>\n",
       "      <td>0.527631</td>\n",
       "      <td>0.689818</td>\n",
       "      <td>46166.322400</td>\n",
       "      <td>1.123622</td>\n",
       "      <td>1.009463</td>\n",
       "      <td>0.332968</td>\n",
       "    </tr>\n",
       "    <tr>\n",
       "      <th>min</th>\n",
       "      <td>1.000000</td>\n",
       "      <td>21.000000</td>\n",
       "      <td>0.000000</td>\n",
       "      <td>0.000000</td>\n",
       "      <td>-3.624586</td>\n",
       "      <td>0.000000</td>\n",
       "      <td>20.000000</td>\n",
       "      <td>1.000000</td>\n",
       "      <td>1.000000</td>\n",
       "      <td>1000.000000</td>\n",
       "      <td>1.000000</td>\n",
       "      <td>1.000000</td>\n",
       "      <td>0.000000</td>\n",
       "    </tr>\n",
       "    <tr>\n",
       "      <th>25%</th>\n",
       "      <td>27440.500000</td>\n",
       "      <td>30.000000</td>\n",
       "      <td>0.000000</td>\n",
       "      <td>0.000000</td>\n",
       "      <td>-2.259534</td>\n",
       "      <td>0.000000</td>\n",
       "      <td>50.000000</td>\n",
       "      <td>1.000000</td>\n",
       "      <td>2.000000</td>\n",
       "      <td>20000.000000</td>\n",
       "      <td>1.000000</td>\n",
       "      <td>2.000000</td>\n",
       "      <td>0.000000</td>\n",
       "    </tr>\n",
       "    <tr>\n",
       "      <th>50%</th>\n",
       "      <td>55274.000000</td>\n",
       "      <td>37.000000</td>\n",
       "      <td>0.000000</td>\n",
       "      <td>0.000000</td>\n",
       "      <td>-1.920823</td>\n",
       "      <td>1.000000</td>\n",
       "      <td>50.000000</td>\n",
       "      <td>2.000000</td>\n",
       "      <td>3.000000</td>\n",
       "      <td>30000.000000</td>\n",
       "      <td>1.000000</td>\n",
       "      <td>3.000000</td>\n",
       "      <td>0.000000</td>\n",
       "    </tr>\n",
       "    <tr>\n",
       "      <th>75%</th>\n",
       "      <td>82758.500000</td>\n",
       "      <td>48.000000</td>\n",
       "      <td>0.000000</td>\n",
       "      <td>0.000000</td>\n",
       "      <td>-1.569831</td>\n",
       "      <td>3.000000</td>\n",
       "      <td>60.000000</td>\n",
       "      <td>2.000000</td>\n",
       "      <td>3.000000</td>\n",
       "      <td>48000.000000</td>\n",
       "      <td>2.000000</td>\n",
       "      <td>4.000000</td>\n",
       "      <td>0.000000</td>\n",
       "    </tr>\n",
       "    <tr>\n",
       "      <th>max</th>\n",
       "      <td>110147.000000</td>\n",
       "      <td>72.000000</td>\n",
       "      <td>33.000000</td>\n",
       "      <td>1.000000</td>\n",
       "      <td>0.199773</td>\n",
       "      <td>53.000000</td>\n",
       "      <td>80.000000</td>\n",
       "      <td>3.000000</td>\n",
       "      <td>3.000000</td>\n",
       "      <td>1000000.000000</td>\n",
       "      <td>4.000000</td>\n",
       "      <td>4.000000</td>\n",
       "      <td>1.000000</td>\n",
       "    </tr>\n",
       "  </tbody>\n",
       "</table>\n",
       "</div>"
      ],
      "text/plain": [
       "           client_id           age  decline_app_cnt     good_work  \\\n",
       "count   73799.000000  73799.000000     73799.000000  73799.000000   \n",
       "mean    55137.965094     39.280641         0.275749      0.164894   \n",
       "std     31841.921168     11.520378         0.804272      0.371087   \n",
       "min         1.000000     21.000000         0.000000      0.000000   \n",
       "25%     27440.500000     30.000000         0.000000      0.000000   \n",
       "50%     55274.000000     37.000000         0.000000      0.000000   \n",
       "75%     82758.500000     48.000000         0.000000      0.000000   \n",
       "max    110147.000000     72.000000        33.000000      1.000000   \n",
       "\n",
       "          score_bki  bki_request_cnt  region_rating  home_address  \\\n",
       "count  73799.000000     73799.000000   73799.000000  73799.000000   \n",
       "mean      -1.904724         2.000339      56.725701      1.575509   \n",
       "std        0.498231         2.252073      13.055717      0.527631   \n",
       "min       -3.624586         0.000000      20.000000      1.000000   \n",
       "25%       -2.259534         0.000000      50.000000      1.000000   \n",
       "50%       -1.920823         1.000000      50.000000      2.000000   \n",
       "75%       -1.569831         3.000000      60.000000      2.000000   \n",
       "max        0.199773        53.000000      80.000000      3.000000   \n",
       "\n",
       "       work_address          income           sna    first_time       default  \n",
       "count  73799.000000    73799.000000  73799.000000  73799.000000  73799.000000  \n",
       "mean       2.496280    41099.775417      1.733330      2.765458      0.126994  \n",
       "std        0.689818    46166.322400      1.123622      1.009463      0.332968  \n",
       "min        1.000000     1000.000000      1.000000      1.000000      0.000000  \n",
       "25%        2.000000    20000.000000      1.000000      2.000000      0.000000  \n",
       "50%        3.000000    30000.000000      1.000000      3.000000      0.000000  \n",
       "75%        3.000000    48000.000000      2.000000      4.000000      0.000000  \n",
       "max        3.000000  1000000.000000      4.000000      4.000000      1.000000  "
      ]
     },
     "execution_count": 51,
     "metadata": {},
     "output_type": "execute_result"
    }
   ],
   "source": [
    "df.describe()"
   ]
  },
  {
   "cell_type": "code",
   "execution_count": 52,
   "id": "b42bcace",
   "metadata": {
    "scrolled": true
   },
   "outputs": [
    {
     "data": {
      "text/html": [
       "<div>\n",
       "<style scoped>\n",
       "    .dataframe tbody tr th:only-of-type {\n",
       "        vertical-align: middle;\n",
       "    }\n",
       "\n",
       "    .dataframe tbody tr th {\n",
       "        vertical-align: top;\n",
       "    }\n",
       "\n",
       "    .dataframe thead th {\n",
       "        text-align: right;\n",
       "    }\n",
       "</style>\n",
       "<table border=\"1\" class=\"dataframe\">\n",
       "  <thead>\n",
       "    <tr style=\"text-align: right;\">\n",
       "      <th></th>\n",
       "      <th>client_id</th>\n",
       "      <th>age</th>\n",
       "      <th>decline_app_cnt</th>\n",
       "      <th>good_work</th>\n",
       "      <th>score_bki</th>\n",
       "      <th>bki_request_cnt</th>\n",
       "      <th>region_rating</th>\n",
       "      <th>home_address</th>\n",
       "      <th>work_address</th>\n",
       "      <th>income</th>\n",
       "      <th>sna</th>\n",
       "      <th>first_time</th>\n",
       "      <th>default</th>\n",
       "    </tr>\n",
       "  </thead>\n",
       "  <tbody>\n",
       "    <tr>\n",
       "      <th>client_id</th>\n",
       "      <td>1.000000</td>\n",
       "      <td>0.015435</td>\n",
       "      <td>-0.021417</td>\n",
       "      <td>0.004749</td>\n",
       "      <td>-0.063293</td>\n",
       "      <td>-0.029028</td>\n",
       "      <td>0.008233</td>\n",
       "      <td>0.165555</td>\n",
       "      <td>0.165777</td>\n",
       "      <td>-0.000099</td>\n",
       "      <td>-0.004195</td>\n",
       "      <td>0.017277</td>\n",
       "      <td>-0.039242</td>\n",
       "    </tr>\n",
       "    <tr>\n",
       "      <th>age</th>\n",
       "      <td>0.015435</td>\n",
       "      <td>1.000000</td>\n",
       "      <td>-0.111175</td>\n",
       "      <td>-0.076158</td>\n",
       "      <td>-0.106275</td>\n",
       "      <td>0.046265</td>\n",
       "      <td>-0.089501</td>\n",
       "      <td>0.010392</td>\n",
       "      <td>-0.006299</td>\n",
       "      <td>-0.018900</td>\n",
       "      <td>-0.059542</td>\n",
       "      <td>0.079046</td>\n",
       "      <td>-0.025004</td>\n",
       "    </tr>\n",
       "    <tr>\n",
       "      <th>decline_app_cnt</th>\n",
       "      <td>-0.021417</td>\n",
       "      <td>-0.111175</td>\n",
       "      <td>1.000000</td>\n",
       "      <td>-0.027359</td>\n",
       "      <td>0.189987</td>\n",
       "      <td>0.155894</td>\n",
       "      <td>-0.038505</td>\n",
       "      <td>0.012530</td>\n",
       "      <td>0.016234</td>\n",
       "      <td>-0.021687</td>\n",
       "      <td>0.065297</td>\n",
       "      <td>-0.069099</td>\n",
       "      <td>0.113682</td>\n",
       "    </tr>\n",
       "    <tr>\n",
       "      <th>good_work</th>\n",
       "      <td>0.004749</td>\n",
       "      <td>-0.076158</td>\n",
       "      <td>-0.027359</td>\n",
       "      <td>1.000000</td>\n",
       "      <td>0.006269</td>\n",
       "      <td>0.005738</td>\n",
       "      <td>0.073041</td>\n",
       "      <td>-0.003624</td>\n",
       "      <td>-0.008535</td>\n",
       "      <td>0.022705</td>\n",
       "      <td>-0.054041</td>\n",
       "      <td>0.055821</td>\n",
       "      <td>-0.043361</td>\n",
       "    </tr>\n",
       "    <tr>\n",
       "      <th>score_bki</th>\n",
       "      <td>-0.063293</td>\n",
       "      <td>-0.106275</td>\n",
       "      <td>0.189987</td>\n",
       "      <td>0.006269</td>\n",
       "      <td>1.000000</td>\n",
       "      <td>0.156257</td>\n",
       "      <td>0.008959</td>\n",
       "      <td>0.013847</td>\n",
       "      <td>0.012648</td>\n",
       "      <td>-0.012639</td>\n",
       "      <td>0.067623</td>\n",
       "      <td>-0.069122</td>\n",
       "      <td>0.175369</td>\n",
       "    </tr>\n",
       "    <tr>\n",
       "      <th>bki_request_cnt</th>\n",
       "      <td>-0.029028</td>\n",
       "      <td>0.046265</td>\n",
       "      <td>0.155894</td>\n",
       "      <td>0.005738</td>\n",
       "      <td>0.156257</td>\n",
       "      <td>1.000000</td>\n",
       "      <td>0.009025</td>\n",
       "      <td>0.008183</td>\n",
       "      <td>0.005553</td>\n",
       "      <td>0.082983</td>\n",
       "      <td>0.005139</td>\n",
       "      <td>0.014859</td>\n",
       "      <td>0.078242</td>\n",
       "    </tr>\n",
       "    <tr>\n",
       "      <th>region_rating</th>\n",
       "      <td>0.008233</td>\n",
       "      <td>-0.089501</td>\n",
       "      <td>-0.038505</td>\n",
       "      <td>0.073041</td>\n",
       "      <td>0.008959</td>\n",
       "      <td>0.009025</td>\n",
       "      <td>1.000000</td>\n",
       "      <td>0.233820</td>\n",
       "      <td>0.253541</td>\n",
       "      <td>0.205674</td>\n",
       "      <td>-0.078199</td>\n",
       "      <td>0.088777</td>\n",
       "      <td>-0.089035</td>\n",
       "    </tr>\n",
       "    <tr>\n",
       "      <th>home_address</th>\n",
       "      <td>0.165555</td>\n",
       "      <td>0.010392</td>\n",
       "      <td>0.012530</td>\n",
       "      <td>-0.003624</td>\n",
       "      <td>0.013847</td>\n",
       "      <td>0.008183</td>\n",
       "      <td>0.233820</td>\n",
       "      <td>1.000000</td>\n",
       "      <td>0.728139</td>\n",
       "      <td>0.038343</td>\n",
       "      <td>0.115196</td>\n",
       "      <td>-0.058476</td>\n",
       "      <td>0.084637</td>\n",
       "    </tr>\n",
       "    <tr>\n",
       "      <th>work_address</th>\n",
       "      <td>0.165777</td>\n",
       "      <td>-0.006299</td>\n",
       "      <td>0.016234</td>\n",
       "      <td>-0.008535</td>\n",
       "      <td>0.012648</td>\n",
       "      <td>0.005553</td>\n",
       "      <td>0.253541</td>\n",
       "      <td>0.728139</td>\n",
       "      <td>1.000000</td>\n",
       "      <td>0.049721</td>\n",
       "      <td>0.111114</td>\n",
       "      <td>-0.063202</td>\n",
       "      <td>0.081582</td>\n",
       "    </tr>\n",
       "    <tr>\n",
       "      <th>income</th>\n",
       "      <td>-0.000099</td>\n",
       "      <td>-0.018900</td>\n",
       "      <td>-0.021687</td>\n",
       "      <td>0.022705</td>\n",
       "      <td>-0.012639</td>\n",
       "      <td>0.082983</td>\n",
       "      <td>0.205674</td>\n",
       "      <td>0.038343</td>\n",
       "      <td>0.049721</td>\n",
       "      <td>1.000000</td>\n",
       "      <td>-0.087800</td>\n",
       "      <td>0.109893</td>\n",
       "      <td>-0.039752</td>\n",
       "    </tr>\n",
       "    <tr>\n",
       "      <th>sna</th>\n",
       "      <td>-0.004195</td>\n",
       "      <td>-0.059542</td>\n",
       "      <td>0.065297</td>\n",
       "      <td>-0.054041</td>\n",
       "      <td>0.067623</td>\n",
       "      <td>0.005139</td>\n",
       "      <td>-0.078199</td>\n",
       "      <td>0.115196</td>\n",
       "      <td>0.111114</td>\n",
       "      <td>-0.087800</td>\n",
       "      <td>1.000000</td>\n",
       "      <td>-0.525206</td>\n",
       "      <td>0.125832</td>\n",
       "    </tr>\n",
       "    <tr>\n",
       "      <th>first_time</th>\n",
       "      <td>0.017277</td>\n",
       "      <td>0.079046</td>\n",
       "      <td>-0.069099</td>\n",
       "      <td>0.055821</td>\n",
       "      <td>-0.069122</td>\n",
       "      <td>0.014859</td>\n",
       "      <td>0.088777</td>\n",
       "      <td>-0.058476</td>\n",
       "      <td>-0.063202</td>\n",
       "      <td>0.109893</td>\n",
       "      <td>-0.525206</td>\n",
       "      <td>1.000000</td>\n",
       "      <td>-0.105579</td>\n",
       "    </tr>\n",
       "    <tr>\n",
       "      <th>default</th>\n",
       "      <td>-0.039242</td>\n",
       "      <td>-0.025004</td>\n",
       "      <td>0.113682</td>\n",
       "      <td>-0.043361</td>\n",
       "      <td>0.175369</td>\n",
       "      <td>0.078242</td>\n",
       "      <td>-0.089035</td>\n",
       "      <td>0.084637</td>\n",
       "      <td>0.081582</td>\n",
       "      <td>-0.039752</td>\n",
       "      <td>0.125832</td>\n",
       "      <td>-0.105579</td>\n",
       "      <td>1.000000</td>\n",
       "    </tr>\n",
       "  </tbody>\n",
       "</table>\n",
       "</div>"
      ],
      "text/plain": [
       "                 client_id       age  decline_app_cnt  good_work  score_bki  \\\n",
       "client_id         1.000000  0.015435        -0.021417   0.004749  -0.063293   \n",
       "age               0.015435  1.000000        -0.111175  -0.076158  -0.106275   \n",
       "decline_app_cnt  -0.021417 -0.111175         1.000000  -0.027359   0.189987   \n",
       "good_work         0.004749 -0.076158        -0.027359   1.000000   0.006269   \n",
       "score_bki        -0.063293 -0.106275         0.189987   0.006269   1.000000   \n",
       "bki_request_cnt  -0.029028  0.046265         0.155894   0.005738   0.156257   \n",
       "region_rating     0.008233 -0.089501        -0.038505   0.073041   0.008959   \n",
       "home_address      0.165555  0.010392         0.012530  -0.003624   0.013847   \n",
       "work_address      0.165777 -0.006299         0.016234  -0.008535   0.012648   \n",
       "income           -0.000099 -0.018900        -0.021687   0.022705  -0.012639   \n",
       "sna              -0.004195 -0.059542         0.065297  -0.054041   0.067623   \n",
       "first_time        0.017277  0.079046        -0.069099   0.055821  -0.069122   \n",
       "default          -0.039242 -0.025004         0.113682  -0.043361   0.175369   \n",
       "\n",
       "                 bki_request_cnt  region_rating  home_address  work_address  \\\n",
       "client_id              -0.029028       0.008233      0.165555      0.165777   \n",
       "age                     0.046265      -0.089501      0.010392     -0.006299   \n",
       "decline_app_cnt         0.155894      -0.038505      0.012530      0.016234   \n",
       "good_work               0.005738       0.073041     -0.003624     -0.008535   \n",
       "score_bki               0.156257       0.008959      0.013847      0.012648   \n",
       "bki_request_cnt         1.000000       0.009025      0.008183      0.005553   \n",
       "region_rating           0.009025       1.000000      0.233820      0.253541   \n",
       "home_address            0.008183       0.233820      1.000000      0.728139   \n",
       "work_address            0.005553       0.253541      0.728139      1.000000   \n",
       "income                  0.082983       0.205674      0.038343      0.049721   \n",
       "sna                     0.005139      -0.078199      0.115196      0.111114   \n",
       "first_time              0.014859       0.088777     -0.058476     -0.063202   \n",
       "default                 0.078242      -0.089035      0.084637      0.081582   \n",
       "\n",
       "                   income       sna  first_time   default  \n",
       "client_id       -0.000099 -0.004195    0.017277 -0.039242  \n",
       "age             -0.018900 -0.059542    0.079046 -0.025004  \n",
       "decline_app_cnt -0.021687  0.065297   -0.069099  0.113682  \n",
       "good_work        0.022705 -0.054041    0.055821 -0.043361  \n",
       "score_bki       -0.012639  0.067623   -0.069122  0.175369  \n",
       "bki_request_cnt  0.082983  0.005139    0.014859  0.078242  \n",
       "region_rating    0.205674 -0.078199    0.088777 -0.089035  \n",
       "home_address     0.038343  0.115196   -0.058476  0.084637  \n",
       "work_address     0.049721  0.111114   -0.063202  0.081582  \n",
       "income           1.000000 -0.087800    0.109893 -0.039752  \n",
       "sna             -0.087800  1.000000   -0.525206  0.125832  \n",
       "first_time       0.109893 -0.525206    1.000000 -0.105579  \n",
       "default         -0.039752  0.125832   -0.105579  1.000000  "
      ]
     },
     "execution_count": 52,
     "metadata": {},
     "output_type": "execute_result"
    }
   ],
   "source": [
    "df.corr()"
   ]
  },
  {
   "cell_type": "markdown",
   "id": "601394fd",
   "metadata": {},
   "source": [
    "# Наивная модель"
   ]
  },
  {
   "cell_type": "code",
   "execution_count": 53,
   "id": "e13dd1c9",
   "metadata": {},
   "outputs": [
    {
     "name": "stdout",
     "output_type": "stream",
     "text": [
      "ROC AUC = 0.572\n"
     ]
    },
    {
     "data": {
      "image/png": "[encoded data removed]",
      "text/plain": [
       "<Figure size 432x288 with 1 Axes>"
      ]
     },
     "metadata": {
      "needs_background": "light"
     },
     "output_type": "display_data"
    }
   ],
   "source": [
    "df = pd.read_csv('C:/Users/enasy/Downloads/Project/train.csv')\n",
    "\n",
    "df.dropna(inplace=True)\n",
    "X = df.drop(['client_id', 'app_date', 'education', 'sex', 'car', 'car_type', 'foreign_passport', 'default'], axis = 1)\n",
    "Y = df['default']\n",
    "\n",
    "X_train, X_val, y_train, y_val = train_test_split(X, Y, test_size=0.20, random_state=42)\n",
    "\n",
    "model = LogisticRegression(max_iter = 1000)\n",
    "model.fit(X_train, y_train)\n",
    "\n",
    "probs = model.predict_proba(X_val)\n",
    "probs = probs[:,1]\n",
    "\n",
    "\n",
    "fpr, tpr, threshold = roc_curve(y_val, probs)\n",
    "roc_auc = roc_auc_score(y_val, probs)\n",
    "\n",
    "plt.figure()\n",
    "plt.plot([0, 1], label='Baseline', linestyle='--')\n",
    "plt.plot(fpr, tpr, label = 'Regression')\n",
    "plt.title('Logistic Regression ROC AUC = %0.3f' % roc_auc)\n",
    "plt.ylabel('True Positive Rate')\n",
    "plt.xlabel('False Positive Rate')\n",
    "plt.legend(loc = 'lower right')\n",
    "plt.show()\n",
    "\n",
    "print('ROC AUC = {:.3f}'.format(roc_auc))\n"
   ]
  },
  {
   "cell_type": "markdown",
   "id": "bf3a5612",
   "metadata": {},
   "source": [
    "# EDA с Pandas Profiling"
   ]
  },
  {
   "cell_type": "code",
   "execution_count": 54,
   "id": "25accbca",
   "metadata": {},
   "outputs": [],
   "source": [
    "df = pd.read_csv('C:/Users/enasy/Downloads/Project/train.csv')"
   ]
  },
  {
   "cell_type": "code",
   "execution_count": 55,
   "id": "9e0e00d0",
   "metadata": {},
   "outputs": [
    {
     "name": "stdout",
     "output_type": "stream",
     "text": [
      "Requirement already satisfied: pandas_profiling in c:\\users\\enasy\\anaconda3\\lib\\site-packages (3.1.0)\n",
      "Requirement already satisfied: requests>=2.24.0 in c:\\users\\enasy\\anaconda3\\lib\\site-packages (from pandas_profiling) (2.25.1)\n",
      "Requirement already satisfied: matplotlib>=3.2.0 in c:\\users\\enasy\\anaconda3\\lib\\site-packages (from pandas_profiling) (3.3.4)\n",
      "Requirement already satisfied: htmlmin>=0.1.12 in c:\\users\\enasy\\anaconda3\\lib\\site-packages (from pandas_profiling) (0.1.12)\n",
      "Requirement already satisfied: jinja2>=2.11.1 in c:\\users\\enasy\\anaconda3\\lib\\site-packages (from pandas_profiling) (2.11.3)\n",
      "Requirement already satisfied: pandas!=1.0.0,!=1.0.1,!=1.0.2,!=1.1.0,>=0.25.3 in c:\\users\\enasy\\anaconda3\\lib\\site-packages (from pandas_profiling) (1.2.4)\n",
      "Requirement already satisfied: tqdm>=4.48.2 in c:\\users\\enasy\\anaconda3\\lib\\site-packages (from pandas_profiling) (4.59.0)\n",
      "Requirement already satisfied: pydantic>=1.8.1 in c:\\users\\enasy\\anaconda3\\lib\\site-packages (from pandas_profiling) (1.8.2)\n",
      "Requirement already satisfied: joblib~=1.0.1 in c:\\users\\enasy\\anaconda3\\lib\\site-packages (from pandas_profiling) (1.0.1)\n",
      "Requirement already satisfied: PyYAML>=5.0.0 in c:\\users\\enasy\\anaconda3\\lib\\site-packages (from pandas_profiling) (5.4.1)\n",
      "Requirement already satisfied: seaborn>=0.10.1 in c:\\users\\enasy\\anaconda3\\lib\\site-packages (from pandas_profiling) (0.11.1)\n",
      "Requirement already satisfied: markupsafe~=2.0.1 in c:\\users\\enasy\\anaconda3\\lib\\site-packages (from pandas_profiling) (2.0.1)\n",
      "Requirement already satisfied: missingno>=0.4.2 in c:\\users\\enasy\\anaconda3\\lib\\site-packages (from pandas_profiling) (0.5.0)\n",
      "Requirement already satisfied: scipy>=1.4.1 in c:\\users\\enasy\\anaconda3\\lib\\site-packages (from pandas_profiling) (1.6.2)\n",
      "Requirement already satisfied: visions[type_image_path]==0.7.4 in c:\\users\\enasy\\anaconda3\\lib\\site-packages (from pandas_profiling) (0.7.4)\n",
      "Requirement already satisfied: tangled-up-in-unicode==0.1.0 in c:\\users\\enasy\\anaconda3\\lib\\site-packages (from pandas_profiling) (0.1.0)\n",
      "Requirement already satisfied: numpy>=1.16.0 in c:\\users\\enasy\\anaconda3\\lib\\site-packages (from pandas_profiling) (1.20.1)\n",
      "Requirement already satisfied: phik>=0.11.1 in c:\\users\\enasy\\anaconda3\\lib\\site-packages (from pandas_profiling) (0.12.0)\n",
      "Requirement already satisfied: multimethod>=1.4 in c:\\users\\enasy\\anaconda3\\lib\\site-packages (from pandas_profiling) (1.6)\n",
      "Requirement already satisfied: attrs>=19.3.0 in c:\\users\\enasy\\anaconda3\\lib\\site-packages (from visions[type_image_path]==0.7.4->pandas_profiling) (20.3.0)\n",
      "Requirement already satisfied: networkx>=2.4 in c:\\users\\enasy\\anaconda3\\lib\\site-packages (from visions[type_image_path]==0.7.4->pandas_profiling) (2.5)\n",
      "Requirement already satisfied: Pillow in c:\\users\\enasy\\anaconda3\\lib\\site-packages (from visions[type_image_path]==0.7.4->pandas_profiling) (8.2.0)\n",
      "Requirement already satisfied: imagehash in c:\\users\\enasy\\anaconda3\\lib\\site-packages (from visions[type_image_path]==0.7.4->pandas_profiling) (4.2.1)\n",
      "Requirement already satisfied: cycler>=0.10 in c:\\users\\enasy\\anaconda3\\lib\\site-packages (from matplotlib>=3.2.0->pandas_profiling) (0.10.0)\n",
      "Requirement already satisfied: kiwisolver>=1.0.1 in c:\\users\\enasy\\anaconda3\\lib\\site-packages (from matplotlib>=3.2.0->pandas_profiling) (1.3.1)\n",
      "Requirement already satisfied: pyparsing!=2.0.4,!=2.1.2,!=2.1.6,>=2.0.3 in c:\\users\\enasy\\anaconda3\\lib\\site-packages (from matplotlib>=3.2.0->pandas_profiling) (2.4.7)\n",
      "Requirement already satisfied: python-dateutil>=2.1 in c:\\users\\enasy\\anaconda3\\lib\\site-packages (from matplotlib>=3.2.0->pandas_profiling) (2.8.1)\n",
      "Requirement already satisfied: six in c:\\users\\enasy\\anaconda3\\lib\\site-packages (from cycler>=0.10->matplotlib>=3.2.0->pandas_profiling) (1.15.0)\n"
     ]
    }
   ],
   "source": [
    "!pip install pandas_profiling"
   ]
  },
  {
   "cell_type": "code",
   "execution_count": 56,
   "id": "9d8aeb1d",
   "metadata": {
    "scrolled": false
   },
   "outputs": [
    {
     "name": "stdout",
     "output_type": "stream",
     "text": [
      "Requirement already satisfied: decorator>=4.3.0 in c:\\users\\enasy\\anaconda3\\lib\\site-packages (from networkx>=2.4->visions[type_image_path]==0.7.4->pandas_profiling) (5.0.6)\n",
      "Requirement already satisfied: pytz>=2017.3 in c:\\users\\enasy\\anaconda3\\lib\\site-packages (from pandas!=1.0.0,!=1.0.1,!=1.0.2,!=1.1.0,>=0.25.3->pandas_profiling) (2021.1)\n",
      "Requirement already satisfied: typing-extensions>=3.7.4.3 in c:\\users\\enasy\\anaconda3\\lib\\site-packages (from pydantic>=1.8.1->pandas_profiling) (3.7.4.3)\n",
      "Requirement already satisfied: urllib3<1.27,>=1.21.1 in c:\\users\\enasy\\anaconda3\\lib\\site-packages (from requests>=2.24.0->pandas_profiling) (1.26.4)\n",
      "Requirement already satisfied: certifi>=2017.4.17 in c:\\users\\enasy\\anaconda3\\lib\\site-packages (from requests>=2.24.0->pandas_profiling) (2020.12.5)\n",
      "Requirement already satisfied: idna<3,>=2.5 in c:\\users\\enasy\\anaconda3\\lib\\site-packages (from requests>=2.24.0->pandas_profiling) (2.10)\n",
      "Requirement already satisfied: chardet<5,>=3.0.2 in c:\\users\\enasy\\anaconda3\\lib\\site-packages (from requests>=2.24.0->pandas_profiling) (4.0.0)\n",
      "Requirement already satisfied: PyWavelets in c:\\users\\enasy\\anaconda3\\lib\\site-packages (from imagehash->visions[type_image_path]==0.7.4->pandas_profiling) (1.1.1)\n"
     ]
    },
    {
     "data": {
      "application/vnd.jupyter.widget-view+json": {
       "model_id": "fca08295c6c444b3a8e504d4c82f1617",
       "version_major": 2,
       "version_minor": 0
      },
      "text/plain": [
       "Summarize dataset:   0%|          | 0/5 [00:00<?, ?it/s]"
      ]
     },
     "metadata": {},
     "output_type": "display_data"
    },
    {
     "data": {
      "application/vnd.jupyter.widget-view+json": {
       "model_id": "ef548a9e2fd848ea8b849547f63e86d2",
       "version_major": 2,
       "version_minor": 0
      },
      "text/plain": [
       "Generate report structure:   0%|          | 0/1 [00:00<?, ?it/s]"
      ]
     },
     "metadata": {},
     "output_type": "display_data"
    },
    {
     "data": {
      "application/vnd.jupyter.widget-view+json": {
       "model_id": "d462c0b1bdd6455d8bc1070b7c08eb99",
       "version_major": 2,
       "version_minor": 0
      },
      "text/plain": [
       "Render HTML:   0%|          | 0/1 [00:00<?, ?it/s]"
      ]
     },
     "metadata": {},
     "output_type": "display_data"
    },
    {
     "data": {
      "application/vnd.jupyter.widget-view+json": {
       "model_id": "368734b9466c4c07a0cb0f216062c251",
       "version_major": 2,
       "version_minor": 0
      },
      "text/plain": [
       "Export report to file:   0%|          | 0/1 [00:00<?, ?it/s]"
      ]
     },
     "metadata": {},
     "output_type": "display_data"
    }
   ],
   "source": [
    "from pandas_profiling import ProfileReport\n",
    "prof = ProfileReport(df)\n",
    "prof.to_file(output_file='C:/Users/enasy/Downloads/Project/Pandas_Profiling_Report.html')"
   ]
  },
  {
   "cell_type": "markdown",
   "id": "d1b0d0df",
   "metadata": {},
   "source": [
    "# Более глубокий анализ и визуализация данных "
   ]
  },
  {
   "cell_type": "markdown",
   "id": "1cf65309",
   "metadata": {},
   "source": [
    "## Пропуски"
   ]
  },
  {
   "cell_type": "code",
   "execution_count": 57,
   "id": "6c6429d3",
   "metadata": {},
   "outputs": [],
   "source": [
    "df = pd.read_csv('C:/Users/enasy/Downloads/Project/train.csv')"
   ]
  },
  {
   "cell_type": "code",
   "execution_count": 58,
   "id": "37afbd77",
   "metadata": {},
   "outputs": [
    {
     "name": "stdout",
     "output_type": "stream",
     "text": [
      "False    73492\n",
      "True       307\n",
      "Name: education, dtype: int64\n"
     ]
    }
   ],
   "source": [
    "# Из первичного осмотра данных и Pandas Profiling видно что education - единственный столбец который содержит пропуски,\n",
    "# посчитаем их\n",
    "print(df['education'].isna().value_counts())\n",
    "# Видим что пропусков не так уж и много\n"
   ]
  },
  {
   "cell_type": "markdown",
   "id": "3b7e8851",
   "metadata": {},
   "source": [
    "## Классификация признаков"
   ]
  },
  {
   "cell_type": "code",
   "execution_count": 59,
   "id": "bd784a5d",
   "metadata": {},
   "outputs": [
    {
     "name": "stdout",
     "output_type": "stream",
     "text": [
      "Index(['client_id', 'app_date', 'education', 'sex', 'age', 'car', 'car_type',\n",
      "       'decline_app_cnt', 'good_work', 'score_bki', 'bki_request_cnt',\n",
      "       'region_rating', 'home_address', 'work_address', 'income', 'sna',\n",
      "       'first_time', 'foreign_passport', 'default'],\n",
      "      dtype='object')\n"
     ]
    }
   ],
   "source": [
    "# Сгруппируем признаки по классам: числовые и категоральные отдельно выделив бинарные. \n",
    "# Опять же таки, класс признаков виден из первичного анализа и Pandas Profiling\n",
    "print(df.columns)\n",
    "# столбец client_id не явдяется признаком и не будет прередаваться в модель\n",
    "num_col = df[['age', 'decline_app_cnt', 'score_bki', 'bki_request_cnt', 'region_rating', 'income']]\n",
    "bin_col = df[['sex', 'car', 'car_type', 'good_work', 'foreign_passport']]\n",
    "cat_col = df[['education', 'home_address', 'work_address', 'sna', 'first_time']]\n",
    "# Остаётся столбец app_date с которым нужно будет поработать отдельно переведя значения во временой формат "
   ]
  },
  {
   "cell_type": "markdown",
   "id": "723a0268",
   "metadata": {},
   "source": [
    "## Визуальзация данных"
   ]
  },
  {
   "cell_type": "markdown",
   "id": "5a1a7ff9",
   "metadata": {},
   "source": [
    "### Визуализация числовых признаков"
   ]
  },
  {
   "cell_type": "code",
   "execution_count": 60,
   "id": "f61219e4",
   "metadata": {
    "scrolled": false
   },
   "outputs": [
    {
     "data": {
      "text/plain": [
       "<AxesSubplot:>"
      ]
     },
     "metadata": {},
     "output_type": "display_data"
    },
    {
     "data": {
      "text/plain": [
       "<AxesSubplot:>"
      ]
     },
     "metadata": {},
     "output_type": "display_data"
    },
    {
     "data": {
      "text/plain": [
       "<AxesSubplot:>"
      ]
     },
     "metadata": {},
     "output_type": "display_data"
    },
    {
     "data": {
      "text/plain": [
       "<AxesSubplot:>"
      ]
     },
     "metadata": {},
     "output_type": "display_data"
    },
    {
     "data": {
      "text/plain": [
       "<AxesSubplot:>"
      ]
     },
     "metadata": {},
     "output_type": "display_data"
    },
    {
     "data": {
      "text/plain": [
       "<AxesSubplot:>"
      ]
     },
     "metadata": {},
     "output_type": "display_data"
    },
    {
     "data": {
      "image/png": "[encoded data removed]",
      "text/plain": [
       "<Figure size 432x216 with 1 Axes>"
      ]
     },
     "metadata": {
      "needs_background": "light"
     },
     "output_type": "display_data"
    },
    {
     "data": {
      "image/png": "[encoded data removed]",
      "text/plain": [
       "<Figure size 432x216 with 1 Axes>"
      ]
     },
     "metadata": {
      "needs_background": "light"
     },
     "output_type": "display_data"
    },
    {
     "data": {
      "image/png": "[encoded data removed]",
      "text/plain": [
       "<Figure size 432x216 with 1 Axes>"
      ]
     },
     "metadata": {
      "needs_background": "light"
     },
     "output_type": "display_data"
    },
    {
     "data": {
      "image/png": "[encoded data removed]",
      "text/plain": [
       "<Figure size 432x216 with 1 Axes>"
      ]
     },
     "metadata": {
      "needs_background": "light"
     },
     "output_type": "display_data"
    },
    {
     "data": {
      "image/png": "[encoded data removed]",
      "text/plain": [
       "<Figure size 432x216 with 1 Axes>"
      ]
     },
     "metadata": {
      "needs_background": "light"
     },
     "output_type": "display_data"
    },
    {
     "data": {
      "image/png": "[encoded data removed]",
      "text/plain": [
       "<Figure size 432x216 with 1 Axes>"
      ]
     },
     "metadata": {
      "needs_background": "light"
     },
     "output_type": "display_data"
    }
   ],
   "source": [
    "# Построение гистограм\n",
    "plot_hist(num_col)\n",
    "# Видим что признаки decline_app_cnt, bki_request_cnt и income имеют длиные хвосты"
   ]
  },
  {
   "cell_type": "code",
   "execution_count": 61,
   "id": "6c8b305b",
   "metadata": {
    "scrolled": false
   },
   "outputs": [
    {
     "name": "stdout",
     "output_type": "stream",
     "text": [
      "Среднее значение age = 39.281\n",
      "Среднее значение decline_app_cnt = 0.276\n",
      "Среднее значение score_bki = -1.905\n",
      "Среднее значение bki_request_cnt = 2.000\n",
      "Среднее значение region_rating = 56.726\n",
      "Среднее значение income = 41099.775\n"
     ]
    },
    {
     "data": {
      "image/png": "[encoded data removed]",
      "text/plain": [
       "<Figure size 432x216 with 1 Axes>"
      ]
     },
     "metadata": {
      "needs_background": "light"
     },
     "output_type": "display_data"
    },
    {
     "data": {
      "image/png": "[encoded data removed]",
      "text/plain": [
       "<Figure size 432x216 with 1 Axes>"
      ]
     },
     "metadata": {
      "needs_background": "light"
     },
     "output_type": "display_data"
    },
    {
     "data": {
      "image/png": "[encoded data removed]",
      "text/plain": [
       "<Figure size 432x216 with 1 Axes>"
      ]
     },
     "metadata": {
      "needs_background": "light"
     },
     "output_type": "display_data"
    },
    {
     "data": {
      "image/png": "[encoded data removed]",
      "text/plain": [
       "<Figure size 432x216 with 1 Axes>"
      ]
     },
     "metadata": {
      "needs_background": "light"
     },
     "output_type": "display_data"
    },
    {
     "data": {
      "image/png": "[encoded data removed]",
      "text/plain": [
       "<Figure size 432x216 with 1 Axes>"
      ]
     },
     "metadata": {
      "needs_background": "light"
     },
     "output_type": "display_data"
    },
    {
     "data": {
      "image/png": "[encoded data removed]",
      "text/plain": [
       "<Figure size 432x216 with 1 Axes>"
      ]
     },
     "metadata": {
      "needs_background": "light"
     },
     "output_type": "display_data"
    }
   ],
   "source": [
    "# Построение boxpots\n",
    "plot_boxplots(num_col)\n",
    "# Видим что присутствуют выбросы"
   ]
  },
  {
   "cell_type": "code",
   "execution_count": 62,
   "id": "52c44dd1",
   "metadata": {},
   "outputs": [
    {
     "data": {
      "text/html": [
       "<style  type=\"text/css\" >\n",
       "    #T_a80fd_ th {\n",
       "          font-size: 7pt;\n",
       "    }    #T_a80fd_ td {\n",
       "          padding: 0em 0em;\n",
       "    }    #T_a80fd_ th:hover {\n",
       "          font-size: 12pt;\n",
       "    }    #T_a80fd_ tr:hover td:hover {\n",
       "          max-width: 200px;\n",
       "          font-size: 12pt;\n",
       "    }#T_a80fd_row0_col0,#T_a80fd_row1_col1,#T_a80fd_row2_col2,#T_a80fd_row3_col3,#T_a80fd_row4_col4,#T_a80fd_row5_col5{\n",
       "            background-color:  #4479bb;\n",
       "            color:  #000000;\n",
       "            max-width:  80px;\n",
       "            font-size:  10pt;\n",
       "        }#T_a80fd_row0_col1,#T_a80fd_row1_col0,#T_a80fd_row2_col0,#T_a80fd_row3_col4,#T_a80fd_row4_col0,#T_a80fd_row5_col0,#T_a80fd_row5_col1{\n",
       "            background-color:  #d73c5b;\n",
       "            color:  #f1f1f1;\n",
       "            max-width:  80px;\n",
       "            font-size:  10pt;\n",
       "        }#T_a80fd_row0_col2{\n",
       "            background-color:  #d73d5c;\n",
       "            color:  #f1f1f1;\n",
       "            max-width:  80px;\n",
       "            font-size:  10pt;\n",
       "        }#T_a80fd_row0_col3{\n",
       "            background-color:  #df6f85;\n",
       "            color:  #000000;\n",
       "            max-width:  80px;\n",
       "            font-size:  10pt;\n",
       "        }#T_a80fd_row0_col4{\n",
       "            background-color:  #d8415f;\n",
       "            color:  #f1f1f1;\n",
       "            max-width:  80px;\n",
       "            font-size:  10pt;\n",
       "        }#T_a80fd_row0_col5,#T_a80fd_row2_col5{\n",
       "            background-color:  #dc5973;\n",
       "            color:  #000000;\n",
       "            max-width:  80px;\n",
       "            font-size:  10pt;\n",
       "        }#T_a80fd_row1_col2,#T_a80fd_row4_col5{\n",
       "            background-color:  #e69ead;\n",
       "            color:  #000000;\n",
       "            max-width:  80px;\n",
       "            font-size:  10pt;\n",
       "        }#T_a80fd_row1_col3{\n",
       "            background-color:  #e492a3;\n",
       "            color:  #000000;\n",
       "            max-width:  80px;\n",
       "            font-size:  10pt;\n",
       "        }#T_a80fd_row1_col4{\n",
       "            background-color:  #db526e;\n",
       "            color:  #000000;\n",
       "            max-width:  80px;\n",
       "            font-size:  10pt;\n",
       "        }#T_a80fd_row1_col5{\n",
       "            background-color:  #db5872;\n",
       "            color:  #000000;\n",
       "            max-width:  80px;\n",
       "            font-size:  10pt;\n",
       "        }#T_a80fd_row2_col1{\n",
       "            background-color:  #e69dab;\n",
       "            color:  #000000;\n",
       "            max-width:  80px;\n",
       "            font-size:  10pt;\n",
       "        }#T_a80fd_row2_col3{\n",
       "            background-color:  #e491a1;\n",
       "            color:  #000000;\n",
       "            max-width:  80px;\n",
       "            font-size:  10pt;\n",
       "        }#T_a80fd_row2_col4,#T_a80fd_row5_col3{\n",
       "            background-color:  #dd6179;\n",
       "            color:  #000000;\n",
       "            max-width:  80px;\n",
       "            font-size:  10pt;\n",
       "        }#T_a80fd_row3_col0{\n",
       "            background-color:  #d94865;\n",
       "            color:  #000000;\n",
       "            max-width:  80px;\n",
       "            font-size:  10pt;\n",
       "        }#T_a80fd_row3_col1{\n",
       "            background-color:  #df7086;\n",
       "            color:  #000000;\n",
       "            max-width:  80px;\n",
       "            font-size:  10pt;\n",
       "        }#T_a80fd_row3_col2{\n",
       "            background-color:  #df7288;\n",
       "            color:  #000000;\n",
       "            max-width:  80px;\n",
       "            font-size:  10pt;\n",
       "        }#T_a80fd_row3_col5{\n",
       "            background-color:  #db5771;\n",
       "            color:  #000000;\n",
       "            max-width:  80px;\n",
       "            font-size:  10pt;\n",
       "        }#T_a80fd_row4_col1{\n",
       "            background-color:  #da4b68;\n",
       "            color:  #000000;\n",
       "            max-width:  80px;\n",
       "            font-size:  10pt;\n",
       "        }#T_a80fd_row4_col2,#T_a80fd_row4_col3{\n",
       "            background-color:  #dc5c76;\n",
       "            color:  #000000;\n",
       "            max-width:  80px;\n",
       "            font-size:  10pt;\n",
       "        }#T_a80fd_row5_col2{\n",
       "            background-color:  #d83e5d;\n",
       "            color:  #f1f1f1;\n",
       "            max-width:  80px;\n",
       "            font-size:  10pt;\n",
       "        }#T_a80fd_row5_col4{\n",
       "            background-color:  #e38b9d;\n",
       "            color:  #000000;\n",
       "            max-width:  80px;\n",
       "            font-size:  10pt;\n",
       "        }</style><table id=\"T_a80fd_\" ><caption>Hover to magnify</caption><thead>    <tr>        <th class=\"blank level0\" ></th>        <th class=\"col_heading level0 col0\" >age</th>        <th class=\"col_heading level0 col1\" >decline_app_cnt</th>        <th class=\"col_heading level0 col2\" >score_bki</th>        <th class=\"col_heading level0 col3\" >bki_request_cnt</th>        <th class=\"col_heading level0 col4\" >region_rating</th>        <th class=\"col_heading level0 col5\" >income</th>    </tr></thead><tbody>\n",
       "                <tr>\n",
       "                        <th id=\"T_a80fd_level0_row0\" class=\"row_heading level0 row0\" >age</th>\n",
       "                        <td id=\"T_a80fd_row0_col0\" class=\"data row0 col0\" >1.00</td>\n",
       "                        <td id=\"T_a80fd_row0_col1\" class=\"data row0 col1\" >-0.11</td>\n",
       "                        <td id=\"T_a80fd_row0_col2\" class=\"data row0 col2\" >-0.11</td>\n",
       "                        <td id=\"T_a80fd_row0_col3\" class=\"data row0 col3\" >0.05</td>\n",
       "                        <td id=\"T_a80fd_row0_col4\" class=\"data row0 col4\" >-0.09</td>\n",
       "                        <td id=\"T_a80fd_row0_col5\" class=\"data row0 col5\" >-0.02</td>\n",
       "            </tr>\n",
       "            <tr>\n",
       "                        <th id=\"T_a80fd_level0_row1\" class=\"row_heading level0 row1\" >decline_app_cnt</th>\n",
       "                        <td id=\"T_a80fd_row1_col0\" class=\"data row1 col0\" >-0.11</td>\n",
       "                        <td id=\"T_a80fd_row1_col1\" class=\"data row1 col1\" >1.00</td>\n",
       "                        <td id=\"T_a80fd_row1_col2\" class=\"data row1 col2\" >0.19</td>\n",
       "                        <td id=\"T_a80fd_row1_col3\" class=\"data row1 col3\" >0.16</td>\n",
       "                        <td id=\"T_a80fd_row1_col4\" class=\"data row1 col4\" >-0.04</td>\n",
       "                        <td id=\"T_a80fd_row1_col5\" class=\"data row1 col5\" >-0.02</td>\n",
       "            </tr>\n",
       "            <tr>\n",
       "                        <th id=\"T_a80fd_level0_row2\" class=\"row_heading level0 row2\" >score_bki</th>\n",
       "                        <td id=\"T_a80fd_row2_col0\" class=\"data row2 col0\" >-0.11</td>\n",
       "                        <td id=\"T_a80fd_row2_col1\" class=\"data row2 col1\" >0.19</td>\n",
       "                        <td id=\"T_a80fd_row2_col2\" class=\"data row2 col2\" >1.00</td>\n",
       "                        <td id=\"T_a80fd_row2_col3\" class=\"data row2 col3\" >0.16</td>\n",
       "                        <td id=\"T_a80fd_row2_col4\" class=\"data row2 col4\" >0.01</td>\n",
       "                        <td id=\"T_a80fd_row2_col5\" class=\"data row2 col5\" >-0.01</td>\n",
       "            </tr>\n",
       "            <tr>\n",
       "                        <th id=\"T_a80fd_level0_row3\" class=\"row_heading level0 row3\" >bki_request_cnt</th>\n",
       "                        <td id=\"T_a80fd_row3_col0\" class=\"data row3 col0\" >0.05</td>\n",
       "                        <td id=\"T_a80fd_row3_col1\" class=\"data row3 col1\" >0.16</td>\n",
       "                        <td id=\"T_a80fd_row3_col2\" class=\"data row3 col2\" >0.16</td>\n",
       "                        <td id=\"T_a80fd_row3_col3\" class=\"data row3 col3\" >1.00</td>\n",
       "                        <td id=\"T_a80fd_row3_col4\" class=\"data row3 col4\" >0.01</td>\n",
       "                        <td id=\"T_a80fd_row3_col5\" class=\"data row3 col5\" >0.08</td>\n",
       "            </tr>\n",
       "            <tr>\n",
       "                        <th id=\"T_a80fd_level0_row4\" class=\"row_heading level0 row4\" >region_rating</th>\n",
       "                        <td id=\"T_a80fd_row4_col0\" class=\"data row4 col0\" >-0.09</td>\n",
       "                        <td id=\"T_a80fd_row4_col1\" class=\"data row4 col1\" >-0.04</td>\n",
       "                        <td id=\"T_a80fd_row4_col2\" class=\"data row4 col2\" >0.01</td>\n",
       "                        <td id=\"T_a80fd_row4_col3\" class=\"data row4 col3\" >0.01</td>\n",
       "                        <td id=\"T_a80fd_row4_col4\" class=\"data row4 col4\" >1.00</td>\n",
       "                        <td id=\"T_a80fd_row4_col5\" class=\"data row4 col5\" >0.21</td>\n",
       "            </tr>\n",
       "            <tr>\n",
       "                        <th id=\"T_a80fd_level0_row5\" class=\"row_heading level0 row5\" >income</th>\n",
       "                        <td id=\"T_a80fd_row5_col0\" class=\"data row5 col0\" >-0.02</td>\n",
       "                        <td id=\"T_a80fd_row5_col1\" class=\"data row5 col1\" >-0.02</td>\n",
       "                        <td id=\"T_a80fd_row5_col2\" class=\"data row5 col2\" >-0.01</td>\n",
       "                        <td id=\"T_a80fd_row5_col3\" class=\"data row5 col3\" >0.08</td>\n",
       "                        <td id=\"T_a80fd_row5_col4\" class=\"data row5 col4\" >0.21</td>\n",
       "                        <td id=\"T_a80fd_row5_col5\" class=\"data row5 col5\" >1.00</td>\n",
       "            </tr>\n",
       "    </tbody></table>"
      ],
      "text/plain": [
       "<pandas.io.formats.style.Styler at 0x25e66f79af0>"
      ]
     },
     "metadata": {},
     "output_type": "display_data"
    }
   ],
   "source": [
    "# Построение корреляционой матрицы с наложением heatmap \n",
    "plot_corr_heatmap(num_col)\n",
    "# Видим что сильные корреляции между числовыми признаками отсутствуют, наиболее высокий коэффициент наблюдается между \n",
    "# region_rating и income что логично, но и он не очень высок (0.21)"
   ]
  },
  {
   "cell_type": "code",
   "execution_count": 63,
   "id": "bd48b8c4",
   "metadata": {},
   "outputs": [
    {
     "name": "stdout",
     "output_type": "stream",
     "text": [
      "age                  46.166168\n",
      "income              116.798014\n",
      "bki_request_cnt     454.555786\n",
      "region_rating       589.678381\n",
      "decline_app_cnt     966.206975\n",
      "score_bki          2341.599450\n",
      "dtype: float64\n"
     ]
    },
    {
     "data": {
      "image/png": "[encoded data removed]",
      "text/plain": [
       "<Figure size 432x288 with 1 Axes>"
      ]
     },
     "metadata": {
      "needs_background": "light"
     },
     "output_type": "display_data"
    }
   ],
   "source": [
    "# Определение наиболее весомых признаков\n",
    "plot_feature_ranking(num_col)\n",
    "# Видим что признак score_bki является наиболее весомым что логично, интересно что income не является сильнозначимым"
   ]
  },
  {
   "cell_type": "markdown",
   "id": "aa2c1ea2",
   "metadata": {},
   "source": [
    "### Визуализация категоральных признаков"
   ]
  },
  {
   "cell_type": "code",
   "execution_count": 64,
   "id": "8159b400",
   "metadata": {},
   "outputs": [
    {
     "data": {
      "text/plain": [
       "<AxesSubplot:>"
      ]
     },
     "metadata": {},
     "output_type": "display_data"
    },
    {
     "data": {
      "text/plain": [
       "<AxesSubplot:>"
      ]
     },
     "metadata": {},
     "output_type": "display_data"
    },
    {
     "data": {
      "text/plain": [
       "<AxesSubplot:>"
      ]
     },
     "metadata": {},
     "output_type": "display_data"
    },
    {
     "data": {
      "text/plain": [
       "<AxesSubplot:>"
      ]
     },
     "metadata": {},
     "output_type": "display_data"
    },
    {
     "data": {
      "text/plain": [
       "<AxesSubplot:>"
      ]
     },
     "metadata": {},
     "output_type": "display_data"
    },
    {
     "data": {
      "image/png": "[encoded data removed]",
      "text/plain": [
       "<Figure size 432x216 with 1 Axes>"
      ]
     },
     "metadata": {
      "needs_background": "light"
     },
     "output_type": "display_data"
    },
    {
     "data": {
      "image/png": "[encoded data removed]",
      "text/plain": [
       "<Figure size 432x216 with 1 Axes>"
      ]
     },
     "metadata": {
      "needs_background": "light"
     },
     "output_type": "display_data"
    },
    {
     "data": {
      "image/png": "[encoded data removed]",
      "text/plain": [
       "<Figure size 432x216 with 1 Axes>"
      ]
     },
     "metadata": {
      "needs_background": "light"
     },
     "output_type": "display_data"
    },
    {
     "data": {
      "image/png": "[encoded data removed]",
      "text/plain": [
       "<Figure size 432x216 with 1 Axes>"
      ]
     },
     "metadata": {
      "needs_background": "light"
     },
     "output_type": "display_data"
    },
    {
     "data": {
      "image/png": "[encoded data removed]",
      "text/plain": [
       "<Figure size 432x216 with 1 Axes>"
      ]
     },
     "metadata": {
      "needs_background": "light"
     },
     "output_type": "display_data"
    }
   ],
   "source": [
    "# Построение гистограм\n",
    "plot_hist(cat_col)\n",
    "# Видим что категоральные признаки без сюрпризов "
   ]
  },
  {
   "cell_type": "code",
   "execution_count": 65,
   "id": "49869bd1",
   "metadata": {
    "scrolled": true
   },
   "outputs": [
    {
     "data": {
      "text/html": [
       "<style  type=\"text/css\" >\n",
       "    #T_8c95c_ th {\n",
       "          font-size: 7pt;\n",
       "    }    #T_8c95c_ td {\n",
       "          padding: 0em 0em;\n",
       "    }    #T_8c95c_ th:hover {\n",
       "          font-size: 12pt;\n",
       "    }    #T_8c95c_ tr:hover td:hover {\n",
       "          max-width: 200px;\n",
       "          font-size: 12pt;\n",
       "    }#T_8c95c_row0_col0,#T_8c95c_row1_col1,#T_8c95c_row2_col2,#T_8c95c_row3_col3{\n",
       "            background-color:  #4479bb;\n",
       "            color:  #000000;\n",
       "            max-width:  80px;\n",
       "            font-size:  10pt;\n",
       "        }#T_8c95c_row0_col1,#T_8c95c_row1_col0{\n",
       "            background-color:  #9db7d7;\n",
       "            color:  #000000;\n",
       "            max-width:  80px;\n",
       "            font-size:  10pt;\n",
       "        }#T_8c95c_row0_col2{\n",
       "            background-color:  #e0778c;\n",
       "            color:  #000000;\n",
       "            max-width:  80px;\n",
       "            font-size:  10pt;\n",
       "        }#T_8c95c_row0_col3,#T_8c95c_row1_col3,#T_8c95c_row2_col3,#T_8c95c_row3_col2{\n",
       "            background-color:  #d73c5b;\n",
       "            color:  #f1f1f1;\n",
       "            max-width:  80px;\n",
       "            font-size:  10pt;\n",
       "        }#T_8c95c_row1_col2{\n",
       "            background-color:  #e0768b;\n",
       "            color:  #000000;\n",
       "            max-width:  80px;\n",
       "            font-size:  10pt;\n",
       "        }#T_8c95c_row2_col0{\n",
       "            background-color:  #eed4d9;\n",
       "            color:  #000000;\n",
       "            max-width:  80px;\n",
       "            font-size:  10pt;\n",
       "        }#T_8c95c_row2_col1{\n",
       "            background-color:  #eed3d8;\n",
       "            color:  #000000;\n",
       "            max-width:  80px;\n",
       "            font-size:  10pt;\n",
       "        }#T_8c95c_row3_col0{\n",
       "            background-color:  #e8abb7;\n",
       "            color:  #000000;\n",
       "            max-width:  80px;\n",
       "            font-size:  10pt;\n",
       "        }#T_8c95c_row3_col1{\n",
       "            background-color:  #e8aab6;\n",
       "            color:  #000000;\n",
       "            max-width:  80px;\n",
       "            font-size:  10pt;\n",
       "        }</style><table id=\"T_8c95c_\" ><caption>Hover to magnify</caption><thead>    <tr>        <th class=\"blank level0\" ></th>        <th class=\"col_heading level0 col0\" >home_address</th>        <th class=\"col_heading level0 col1\" >work_address</th>        <th class=\"col_heading level0 col2\" >sna</th>        <th class=\"col_heading level0 col3\" >first_time</th>    </tr></thead><tbody>\n",
       "                <tr>\n",
       "                        <th id=\"T_8c95c_level0_row0\" class=\"row_heading level0 row0\" >home_address</th>\n",
       "                        <td id=\"T_8c95c_row0_col0\" class=\"data row0 col0\" >1.00</td>\n",
       "                        <td id=\"T_8c95c_row0_col1\" class=\"data row0 col1\" >0.73</td>\n",
       "                        <td id=\"T_8c95c_row0_col2\" class=\"data row0 col2\" >0.12</td>\n",
       "                        <td id=\"T_8c95c_row0_col3\" class=\"data row0 col3\" >-0.06</td>\n",
       "            </tr>\n",
       "            <tr>\n",
       "                        <th id=\"T_8c95c_level0_row1\" class=\"row_heading level0 row1\" >work_address</th>\n",
       "                        <td id=\"T_8c95c_row1_col0\" class=\"data row1 col0\" >0.73</td>\n",
       "                        <td id=\"T_8c95c_row1_col1\" class=\"data row1 col1\" >1.00</td>\n",
       "                        <td id=\"T_8c95c_row1_col2\" class=\"data row1 col2\" >0.11</td>\n",
       "                        <td id=\"T_8c95c_row1_col3\" class=\"data row1 col3\" >-0.06</td>\n",
       "            </tr>\n",
       "            <tr>\n",
       "                        <th id=\"T_8c95c_level0_row2\" class=\"row_heading level0 row2\" >sna</th>\n",
       "                        <td id=\"T_8c95c_row2_col0\" class=\"data row2 col0\" >0.12</td>\n",
       "                        <td id=\"T_8c95c_row2_col1\" class=\"data row2 col1\" >0.11</td>\n",
       "                        <td id=\"T_8c95c_row2_col2\" class=\"data row2 col2\" >1.00</td>\n",
       "                        <td id=\"T_8c95c_row2_col3\" class=\"data row2 col3\" >-0.53</td>\n",
       "            </tr>\n",
       "            <tr>\n",
       "                        <th id=\"T_8c95c_level0_row3\" class=\"row_heading level0 row3\" >first_time</th>\n",
       "                        <td id=\"T_8c95c_row3_col0\" class=\"data row3 col0\" >-0.06</td>\n",
       "                        <td id=\"T_8c95c_row3_col1\" class=\"data row3 col1\" >-0.06</td>\n",
       "                        <td id=\"T_8c95c_row3_col2\" class=\"data row3 col2\" >-0.53</td>\n",
       "                        <td id=\"T_8c95c_row3_col3\" class=\"data row3 col3\" >1.00</td>\n",
       "            </tr>\n",
       "    </tbody></table>"
      ],
      "text/plain": [
       "<pandas.io.formats.style.Styler at 0x25e66f6e400>"
      ]
     },
     "metadata": {},
     "output_type": "display_data"
    }
   ],
   "source": [
    "# Построение корреляционой матрицы с наложением heatmap \n",
    "plot_corr_heatmap(cat_col)\n",
    "# Видим что очень сильна корреляция между work_address и home_address что логично, также интерсна сильная корреляция\n",
    "# между sna и first_time"
   ]
  },
  {
   "cell_type": "code",
   "execution_count": 66,
   "id": "0ef18458",
   "metadata": {
    "scrolled": true
   },
   "outputs": [
    {
     "name": "stdout",
     "output_type": "stream",
     "text": [
      "work_address     494.460260\n",
      "home_address     532.449810\n",
      "first_time       831.876810\n",
      "sna             1187.281038\n",
      "dtype: float64\n"
     ]
    },
    {
     "data": {
      "image/png": "[encoded data removed]",
      "text/plain": [
       "<Figure size 432x288 with 1 Axes>"
      ]
     },
     "metadata": {
      "needs_background": "light"
     },
     "output_type": "display_data"
    }
   ],
   "source": [
    "# Определение наиболее весомых признаков\n",
    "# столбец education нужно будет привести к численному виду, пока просто не будем его брать в рассчёт \n",
    "plot_feature_ranking(cat_col.drop(['education'], axis = 1))\n",
    "# Видим что признак sna является наиболее весомым"
   ]
  },
  {
   "cell_type": "markdown",
   "id": "485f3236",
   "metadata": {},
   "source": [
    "### Визуализация бинарных признаков"
   ]
  },
  {
   "cell_type": "code",
   "execution_count": 67,
   "id": "cd34fd45",
   "metadata": {},
   "outputs": [
    {
     "data": {
      "text/plain": [
       "<AxesSubplot:>"
      ]
     },
     "metadata": {},
     "output_type": "display_data"
    },
    {
     "data": {
      "text/plain": [
       "<AxesSubplot:>"
      ]
     },
     "metadata": {},
     "output_type": "display_data"
    },
    {
     "data": {
      "text/plain": [
       "<AxesSubplot:>"
      ]
     },
     "metadata": {},
     "output_type": "display_data"
    },
    {
     "data": {
      "text/plain": [
       "<AxesSubplot:>"
      ]
     },
     "metadata": {},
     "output_type": "display_data"
    },
    {
     "data": {
      "text/plain": [
       "<AxesSubplot:>"
      ]
     },
     "metadata": {},
     "output_type": "display_data"
    },
    {
     "data": {
      "image/png": "[encoded data removed]",
      "text/plain": [
       "<Figure size 432x216 with 1 Axes>"
      ]
     },
     "metadata": {
      "needs_background": "light"
     },
     "output_type": "display_data"
    },
    {
     "data": {
      "image/png": "[encoded data removed]",
      "text/plain": [
       "<Figure size 432x216 with 1 Axes>"
      ]
     },
     "metadata": {
      "needs_background": "light"
     },
     "output_type": "display_data"
    },
    {
     "data": {
      "image/png": "[encoded data removed]",
      "text/plain": [
       "<Figure size 432x216 with 1 Axes>"
      ]
     },
     "metadata": {
      "needs_background": "light"
     },
     "output_type": "display_data"
    },
    {
     "data": {
      "image/png": "[encoded data removed]",
      "text/plain": [
       "<Figure size 432x216 with 1 Axes>"
      ]
     },
     "metadata": {
      "needs_background": "light"
     },
     "output_type": "display_data"
    },
    {
     "data": {
      "image/png": "[encoded data removed]",
      "text/plain": [
       "<Figure size 432x216 with 1 Axes>"
      ]
     },
     "metadata": {
      "needs_background": "light"
     },
     "output_type": "display_data"
    }
   ],
   "source": [
    "# Построение гистограм\n",
    "plot_hist(bin_col)\n",
    "# Видим что бинарные признаки без сюрпризов"
   ]
  },
  {
   "cell_type": "code",
   "execution_count": 68,
   "id": "f271fc8a",
   "metadata": {
    "scrolled": true
   },
   "outputs": [],
   "source": [
    "# Для построения корреляционой матрицы и выявленния наиболее весомых признаков\n",
    "# надо будет привести признаки к численным значениям"
   ]
  },
  {
   "cell_type": "markdown",
   "id": "72120093",
   "metadata": {},
   "source": [
    "# Обработка данных"
   ]
  },
  {
   "cell_type": "code",
   "execution_count": 69,
   "id": "973dfa38",
   "metadata": {},
   "outputs": [],
   "source": [
    "df = pd.read_csv('C:/Users/enasy/Downloads/Project/train.csv')"
   ]
  },
  {
   "cell_type": "markdown",
   "id": "40224443",
   "metadata": {},
   "source": [
    "## Пропуски"
   ]
  },
  {
   "cell_type": "code",
   "execution_count": 70,
   "id": "1025aeef",
   "metadata": {},
   "outputs": [],
   "source": [
    "# Заполним поропуски значением SCH ибо школьное образование является обязательным минимумом.\n",
    "df['education'].fillna('SCH', inplace = True)"
   ]
  },
  {
   "cell_type": "markdown",
   "id": "32ed120a",
   "metadata": {},
   "source": [
    "## Устранение дисбаланса"
   ]
  },
  {
   "cell_type": "code",
   "execution_count": 71,
   "id": "5fed2bba",
   "metadata": {},
   "outputs": [
    {
     "data": {
      "text/plain": [
       "0    64427\n",
       "1     9372\n",
       "Name: default, dtype: int64"
      ]
     },
     "execution_count": 71,
     "metadata": {},
     "output_type": "execute_result"
    }
   ],
   "source": [
    "df.default.value_counts()\n",
    "# Видим что пресутствует дисбаланс который может повлиять на качество модели"
   ]
  },
  {
   "cell_type": "code",
   "execution_count": 72,
   "id": "6ba3671a",
   "metadata": {},
   "outputs": [
    {
     "data": {
      "text/plain": [
       "0    9372\n",
       "1    9372\n",
       "Name: default, dtype: int64"
      ]
     },
     "execution_count": 72,
     "metadata": {},
     "output_type": "execute_result"
    }
   ],
   "source": [
    "# Сделаем данные сбалансированными\n",
    "default_1 = df[df.default == 1.0]\n",
    "default_0 = df[df.default == 0.0].head(len(default_1))\n",
    "df = default_1.append(default_0)\n",
    "df.default.value_counts()"
   ]
  },
  {
   "cell_type": "markdown",
   "id": "1ff38487",
   "metadata": {},
   "source": [
    "## Работа со столбцом времени"
   ]
  },
  {
   "cell_type": "code",
   "execution_count": 73,
   "id": "25196dbf",
   "metadata": {},
   "outputs": [
    {
     "name": "stdout",
     "output_type": "stream",
     "text": [
      "Среднее значение time_relevance = 5142809.731\n",
      "False    11737\n",
      "True      7007\n",
      "Name: time_relevance, dtype: int64\n"
     ]
    },
    {
     "data": {
      "image/png": "[encoded data removed]",
      "text/plain": [
       "<Figure size 432x216 with 1 Axes>"
      ]
     },
     "metadata": {
      "needs_background": "light"
     },
     "output_type": "display_data"
    }
   ],
   "source": [
    "# Приведём данные в столбце app_date к формату datetime, создадим новый столбец time_relevance c\n",
    "# числовыми даннами нормализованными относительно самой ранней заявки проверив ны выбросы перед нормализацией.\n",
    "# Заполним пустые значения средней величиной\n",
    "df['app_date'] = pd.to_datetime(df['app_date'])\n",
    "earliest_app = df['app_date'].min()\n",
    "df['time_relevance'] = df['app_date'].apply(lambda x: (x-earliest_app).total_seconds())\n",
    "plot_boxplots(df[['time_relevance']])\n",
    "x = np.asmatrix(df['time_relevance'])\n",
    "x_scaled = MinMaxScaler().fit_transform(x.T)\n",
    "df['time_relevance'] = pd.DataFrame(x_scaled)\n",
    "print(df['time_relevance'].isna().value_counts())\n",
    "df['time_relevance'].fillna(df['time_relevance'].mean(), inplace=True)"
   ]
  },
  {
   "cell_type": "markdown",
   "id": "6e3921db",
   "metadata": {},
   "source": [
    "## Обработка числовых признаков"
   ]
  },
  {
   "cell_type": "code",
   "execution_count": 74,
   "id": "23f3fcbd",
   "metadata": {},
   "outputs": [],
   "source": [
    "# Извавимся от длинных хвостов логарифмированием.\n",
    "for col in df[['decline_app_cnt', 'bki_request_cnt', 'income']]:\n",
    "    df[col] = df[col].apply(lambda x: np.log(x+1))"
   ]
  },
  {
   "cell_type": "code",
   "execution_count": 75,
   "id": "aaa63c1d",
   "metadata": {},
   "outputs": [],
   "source": [
    "# Избавимся от выбросов во всех числовых признаках за исключением age, decline_app_cnt и time_relevance\n",
    "# (они чистенькие).\n",
    "# Выяснилось что удаление выбросов сильно понижает AUC хоть и немного добавляет к другим метрикам. Решено оставить.\n",
    "#len_original_df = len(df)\n",
    "#for col in df[['score_bki', 'bki_request_cnt', 'region_rating', 'income']]:\n",
    "#    df = outliers_iqr(df[col])\n",
    "\n",
    "#Посмотрим на новые boxplots числовых признаков\n",
    "#display(plot_boxplots(df[['age', 'decline_app_cnt', 'score_bki', 'bki_request_cnt', 'region_rating',\n",
    "#                         'income', 'time_relevance']]))\n",
    "#Посмотрим сколько значений бюло удалено\n",
    "#len_new_df = len(df)\n",
    "#print('Удалено {:.2f} % данных'.format(((len_original_df - len_new_df)/len_original_df)*100))"
   ]
  },
  {
   "cell_type": "code",
   "execution_count": 76,
   "id": "c23175af",
   "metadata": {
    "scrolled": true
   },
   "outputs": [
    {
     "data": {
      "text/html": [
       "<style  type=\"text/css\" >\n",
       "    #T_6f907_ th {\n",
       "          font-size: 7pt;\n",
       "    }    #T_6f907_ td {\n",
       "          padding: 0em 0em;\n",
       "    }    #T_6f907_ th:hover {\n",
       "          font-size: 12pt;\n",
       "    }    #T_6f907_ tr:hover td:hover {\n",
       "          max-width: 200px;\n",
       "          font-size: 12pt;\n",
       "    }#T_6f907_row0_col0,#T_6f907_row1_col1,#T_6f907_row2_col2,#T_6f907_row3_col3,#T_6f907_row4_col4,#T_6f907_row5_col5,#T_6f907_row6_col6{\n",
       "            background-color:  #4479bb;\n",
       "            color:  #000000;\n",
       "            max-width:  80px;\n",
       "            font-size:  10pt;\n",
       "        }#T_6f907_row0_col1,#T_6f907_row1_col0,#T_6f907_row2_col0,#T_6f907_row3_col4,#T_6f907_row4_col0,#T_6f907_row5_col0,#T_6f907_row6_col4,#T_6f907_row6_col5{\n",
       "            background-color:  #d73c5b;\n",
       "            color:  #f1f1f1;\n",
       "            max-width:  80px;\n",
       "            font-size:  10pt;\n",
       "        }#T_6f907_row0_col2{\n",
       "            background-color:  #d94865;\n",
       "            color:  #000000;\n",
       "            max-width:  80px;\n",
       "            font-size:  10pt;\n",
       "        }#T_6f907_row0_col3{\n",
       "            background-color:  #e0798d;\n",
       "            color:  #000000;\n",
       "            max-width:  80px;\n",
       "            font-size:  10pt;\n",
       "        }#T_6f907_row0_col4,#T_6f907_row4_col3{\n",
       "            background-color:  #da506b;\n",
       "            color:  #000000;\n",
       "            max-width:  80px;\n",
       "            font-size:  10pt;\n",
       "        }#T_6f907_row0_col5,#T_6f907_row6_col2{\n",
       "            background-color:  #d8405e;\n",
       "            color:  #f1f1f1;\n",
       "            max-width:  80px;\n",
       "            font-size:  10pt;\n",
       "        }#T_6f907_row0_col6{\n",
       "            background-color:  #de667e;\n",
       "            color:  #000000;\n",
       "            max-width:  80px;\n",
       "            font-size:  10pt;\n",
       "        }#T_6f907_row1_col2{\n",
       "            background-color:  #e9b1bc;\n",
       "            color:  #000000;\n",
       "            max-width:  80px;\n",
       "            font-size:  10pt;\n",
       "        }#T_6f907_row1_col3{\n",
       "            background-color:  #e494a4;\n",
       "            color:  #000000;\n",
       "            max-width:  80px;\n",
       "            font-size:  10pt;\n",
       "        }#T_6f907_row1_col4{\n",
       "            background-color:  #dc5973;\n",
       "            color:  #000000;\n",
       "            max-width:  80px;\n",
       "            font-size:  10pt;\n",
       "        }#T_6f907_row1_col5{\n",
       "            background-color:  #dd627b;\n",
       "            color:  #000000;\n",
       "            max-width:  80px;\n",
       "            font-size:  10pt;\n",
       "        }#T_6f907_row1_col6{\n",
       "            background-color:  #dd657d;\n",
       "            color:  #000000;\n",
       "            max-width:  80px;\n",
       "            font-size:  10pt;\n",
       "        }#T_6f907_row2_col1{\n",
       "            background-color:  #e7a8b5;\n",
       "            color:  #000000;\n",
       "            max-width:  80px;\n",
       "            font-size:  10pt;\n",
       "        }#T_6f907_row2_col3{\n",
       "            background-color:  #e38b9d;\n",
       "            color:  #000000;\n",
       "            max-width:  80px;\n",
       "            font-size:  10pt;\n",
       "        }#T_6f907_row2_col4,#T_6f907_row5_col1{\n",
       "            background-color:  #dc5e77;\n",
       "            color:  #000000;\n",
       "            max-width:  80px;\n",
       "            font-size:  10pt;\n",
       "        }#T_6f907_row2_col5{\n",
       "            background-color:  #db5872;\n",
       "            color:  #000000;\n",
       "            max-width:  80px;\n",
       "            font-size:  10pt;\n",
       "        }#T_6f907_row2_col6{\n",
       "            background-color:  #dc5c76;\n",
       "            color:  #000000;\n",
       "            max-width:  80px;\n",
       "            font-size:  10pt;\n",
       "        }#T_6f907_row3_col0{\n",
       "            background-color:  #db526e;\n",
       "            color:  #000000;\n",
       "            max-width:  80px;\n",
       "            font-size:  10pt;\n",
       "        }#T_6f907_row3_col1{\n",
       "            background-color:  #df7086;\n",
       "            color:  #000000;\n",
       "            max-width:  80px;\n",
       "            font-size:  10pt;\n",
       "        }#T_6f907_row3_col2{\n",
       "            background-color:  #e07389;\n",
       "            color:  #000000;\n",
       "            max-width:  80px;\n",
       "            font-size:  10pt;\n",
       "        }#T_6f907_row3_col5{\n",
       "            background-color:  #dd637c;\n",
       "            color:  #000000;\n",
       "            max-width:  80px;\n",
       "            font-size:  10pt;\n",
       "        }#T_6f907_row3_col6,#T_6f907_row6_col3{\n",
       "            background-color:  #d84361;\n",
       "            color:  #f1f1f1;\n",
       "            max-width:  80px;\n",
       "            font-size:  10pt;\n",
       "        }#T_6f907_row4_col1{\n",
       "            background-color:  #d84462;\n",
       "            color:  #f1f1f1;\n",
       "            max-width:  80px;\n",
       "            font-size:  10pt;\n",
       "        }#T_6f907_row4_col2{\n",
       "            background-color:  #db5771;\n",
       "            color:  #000000;\n",
       "            max-width:  80px;\n",
       "            font-size:  10pt;\n",
       "        }#T_6f907_row4_col5{\n",
       "            background-color:  #e9b5bf;\n",
       "            color:  #000000;\n",
       "            max-width:  80px;\n",
       "            font-size:  10pt;\n",
       "        }#T_6f907_row4_col6{\n",
       "            background-color:  #da516c;\n",
       "            color:  #000000;\n",
       "            max-width:  80px;\n",
       "            font-size:  10pt;\n",
       "        }#T_6f907_row5_col2,#T_6f907_row5_col6{\n",
       "            background-color:  #dd6179;\n",
       "            color:  #000000;\n",
       "            max-width:  80px;\n",
       "            font-size:  10pt;\n",
       "        }#T_6f907_row5_col3{\n",
       "            background-color:  #e28396;\n",
       "            color:  #000000;\n",
       "            max-width:  80px;\n",
       "            font-size:  10pt;\n",
       "        }#T_6f907_row5_col4{\n",
       "            background-color:  #ebc1c9;\n",
       "            color:  #000000;\n",
       "            max-width:  80px;\n",
       "            font-size:  10pt;\n",
       "        }#T_6f907_row6_col0,#T_6f907_row6_col1{\n",
       "            background-color:  #d73d5c;\n",
       "            color:  #f1f1f1;\n",
       "            max-width:  80px;\n",
       "            font-size:  10pt;\n",
       "        }</style><table id=\"T_6f907_\" ><caption>Hover to magnify</caption><thead>    <tr>        <th class=\"blank level0\" ></th>        <th class=\"col_heading level0 col0\" >age</th>        <th class=\"col_heading level0 col1\" >decline_app_cnt</th>        <th class=\"col_heading level0 col2\" >score_bki</th>        <th class=\"col_heading level0 col3\" >bki_request_cnt</th>        <th class=\"col_heading level0 col4\" >region_rating</th>        <th class=\"col_heading level0 col5\" >income</th>        <th class=\"col_heading level0 col6\" >time_relevance</th>    </tr></thead><tbody>\n",
       "                <tr>\n",
       "                        <th id=\"T_6f907_level0_row0\" class=\"row_heading level0 row0\" >age</th>\n",
       "                        <td id=\"T_6f907_row0_col0\" class=\"data row0 col0\" >1.00</td>\n",
       "                        <td id=\"T_6f907_row0_col1\" class=\"data row0 col1\" >-0.13</td>\n",
       "                        <td id=\"T_6f907_row0_col2\" class=\"data row0 col2\" >-0.09</td>\n",
       "                        <td id=\"T_6f907_row0_col3\" class=\"data row0 col3\" >0.06</td>\n",
       "                        <td id=\"T_6f907_row0_col4\" class=\"data row0 col4\" >-0.07</td>\n",
       "                        <td id=\"T_6f907_row0_col5\" class=\"data row0 col5\" >-0.12</td>\n",
       "                        <td id=\"T_6f907_row0_col6\" class=\"data row0 col6\" >-0.00</td>\n",
       "            </tr>\n",
       "            <tr>\n",
       "                        <th id=\"T_6f907_level0_row1\" class=\"row_heading level0 row1\" >decline_app_cnt</th>\n",
       "                        <td id=\"T_6f907_row1_col0\" class=\"data row1 col0\" >-0.13</td>\n",
       "                        <td id=\"T_6f907_row1_col1\" class=\"data row1 col1\" >1.00</td>\n",
       "                        <td id=\"T_6f907_row1_col2\" class=\"data row1 col2\" >0.23</td>\n",
       "                        <td id=\"T_6f907_row1_col3\" class=\"data row1 col3\" >0.14</td>\n",
       "                        <td id=\"T_6f907_row1_col4\" class=\"data row1 col4\" >-0.04</td>\n",
       "                        <td id=\"T_6f907_row1_col5\" class=\"data row1 col5\" >-0.01</td>\n",
       "                        <td id=\"T_6f907_row1_col6\" class=\"data row1 col6\" >-0.00</td>\n",
       "            </tr>\n",
       "            <tr>\n",
       "                        <th id=\"T_6f907_level0_row2\" class=\"row_heading level0 row2\" >score_bki</th>\n",
       "                        <td id=\"T_6f907_row2_col0\" class=\"data row2 col0\" >-0.09</td>\n",
       "                        <td id=\"T_6f907_row2_col1\" class=\"data row2 col1\" >0.23</td>\n",
       "                        <td id=\"T_6f907_row2_col2\" class=\"data row2 col2\" >1.00</td>\n",
       "                        <td id=\"T_6f907_row2_col3\" class=\"data row2 col3\" >0.15</td>\n",
       "                        <td id=\"T_6f907_row2_col4\" class=\"data row2 col4\" >0.01</td>\n",
       "                        <td id=\"T_6f907_row2_col5\" class=\"data row2 col5\" >-0.00</td>\n",
       "                        <td id=\"T_6f907_row2_col6\" class=\"data row2 col6\" >0.01</td>\n",
       "            </tr>\n",
       "            <tr>\n",
       "                        <th id=\"T_6f907_level0_row3\" class=\"row_heading level0 row3\" >bki_request_cnt</th>\n",
       "                        <td id=\"T_6f907_row3_col0\" class=\"data row3 col0\" >0.06</td>\n",
       "                        <td id=\"T_6f907_row3_col1\" class=\"data row3 col1\" >0.14</td>\n",
       "                        <td id=\"T_6f907_row3_col2\" class=\"data row3 col2\" >0.15</td>\n",
       "                        <td id=\"T_6f907_row3_col3\" class=\"data row3 col3\" >1.00</td>\n",
       "                        <td id=\"T_6f907_row3_col4\" class=\"data row3 col4\" >-0.01</td>\n",
       "                        <td id=\"T_6f907_row3_col5\" class=\"data row3 col5\" >0.10</td>\n",
       "                        <td id=\"T_6f907_row3_col6\" class=\"data row3 col6\" >0.02</td>\n",
       "            </tr>\n",
       "            <tr>\n",
       "                        <th id=\"T_6f907_level0_row4\" class=\"row_heading level0 row4\" >region_rating</th>\n",
       "                        <td id=\"T_6f907_row4_col0\" class=\"data row4 col0\" >-0.07</td>\n",
       "                        <td id=\"T_6f907_row4_col1\" class=\"data row4 col1\" >-0.04</td>\n",
       "                        <td id=\"T_6f907_row4_col2\" class=\"data row4 col2\" >0.01</td>\n",
       "                        <td id=\"T_6f907_row4_col3\" class=\"data row4 col3\" >-0.01</td>\n",
       "                        <td id=\"T_6f907_row4_col4\" class=\"data row4 col4\" >1.00</td>\n",
       "                        <td id=\"T_6f907_row4_col5\" class=\"data row4 col5\" >0.29</td>\n",
       "                        <td id=\"T_6f907_row4_col6\" class=\"data row4 col6\" >-0.01</td>\n",
       "            </tr>\n",
       "            <tr>\n",
       "                        <th id=\"T_6f907_level0_row5\" class=\"row_heading level0 row5\" >income</th>\n",
       "                        <td id=\"T_6f907_row5_col0\" class=\"data row5 col0\" >-0.12</td>\n",
       "                        <td id=\"T_6f907_row5_col1\" class=\"data row5 col1\" >-0.01</td>\n",
       "                        <td id=\"T_6f907_row5_col2\" class=\"data row5 col2\" >-0.00</td>\n",
       "                        <td id=\"T_6f907_row5_col3\" class=\"data row5 col3\" >0.10</td>\n",
       "                        <td id=\"T_6f907_row5_col4\" class=\"data row5 col4\" >0.29</td>\n",
       "                        <td id=\"T_6f907_row5_col5\" class=\"data row5 col5\" >1.00</td>\n",
       "                        <td id=\"T_6f907_row5_col6\" class=\"data row5 col6\" >-0.00</td>\n",
       "            </tr>\n",
       "            <tr>\n",
       "                        <th id=\"T_6f907_level0_row6\" class=\"row_heading level0 row6\" >time_relevance</th>\n",
       "                        <td id=\"T_6f907_row6_col0\" class=\"data row6 col0\" >-0.00</td>\n",
       "                        <td id=\"T_6f907_row6_col1\" class=\"data row6 col1\" >-0.00</td>\n",
       "                        <td id=\"T_6f907_row6_col2\" class=\"data row6 col2\" >0.01</td>\n",
       "                        <td id=\"T_6f907_row6_col3\" class=\"data row6 col3\" >0.02</td>\n",
       "                        <td id=\"T_6f907_row6_col4\" class=\"data row6 col4\" >-0.01</td>\n",
       "                        <td id=\"T_6f907_row6_col5\" class=\"data row6 col5\" >-0.00</td>\n",
       "                        <td id=\"T_6f907_row6_col6\" class=\"data row6 col6\" >1.00</td>\n",
       "            </tr>\n",
       "    </tbody></table>"
      ],
      "text/plain": [
       "<pandas.io.formats.style.Styler at 0x25e6608b190>"
      ]
     },
     "metadata": {},
     "output_type": "display_data"
    }
   ],
   "source": [
    "# Посмотрим на матрицу корреляций\n",
    "plot_corr_heatmap(df[['age', 'decline_app_cnt', 'score_bki', 'bki_request_cnt', 'region_rating',\n",
    "                    'income', 'time_relevance']])\n",
    "# Отметим что новые признаки сильно коллерированы с начальными. \n",
    "# Метрики они не повысили так что решено их не брать в модель."
   ]
  },
  {
   "cell_type": "code",
   "execution_count": 77,
   "id": "160c7aad",
   "metadata": {},
   "outputs": [
    {
     "name": "stdout",
     "output_type": "stream",
     "text": [
      "time_relevance        5.569537\n",
      "age                  19.668021\n",
      "income              138.716919\n",
      "bki_request_cnt     270.127683\n",
      "region_rating       363.728653\n",
      "decline_app_cnt     541.892811\n",
      "score_bki          1392.798460\n",
      "dtype: float64\n"
     ]
    },
    {
     "data": {
      "image/png": "[encoded data removed]",
      "text/plain": [
       "<Figure size 432x288 with 1 Axes>"
      ]
     },
     "metadata": {
      "needs_background": "light"
     },
     "output_type": "display_data"
    }
   ],
   "source": [
    "# Посмотрим на весомость числовых признаков\n",
    "plot_feature_ranking(df[['age', 'decline_app_cnt', 'score_bki', 'bki_request_cnt', 'region_rating',\n",
    "                    'income', 'time_relevance']])"
   ]
  },
  {
   "cell_type": "markdown",
   "id": "1ca40f1b",
   "metadata": {},
   "source": [
    "## Попробуем сгенерировать новые числовые признаки"
   ]
  },
  {
   "cell_type": "code",
   "execution_count": 78,
   "id": "9e3c167e",
   "metadata": {},
   "outputs": [],
   "source": [
    "# Довавим столбцы с доходами соответствующими возрасту\n",
    "mean_income = df.groupby('age')['income'].mean().to_dict()\n",
    "df['mean_income_age'] = df['age'].map(mean_income)\n",
    "max_income = df.groupby('age')['income'].max().to_dict()\n",
    "df['max_income_age'] = df['age'].map(max_income)\n",
    "df['normalized_income'] = abs((df.income - df.mean_income_age)/df.max_income_age)"
   ]
  },
  {
   "cell_type": "code",
   "execution_count": 79,
   "id": "b9d5ddad",
   "metadata": {},
   "outputs": [],
   "source": [
    "# Добавим столбец со средним количеством запросов соответствующими возрасту\n",
    "mean_bki = df.groupby('age')['bki_request_cnt'].mean().to_dict()\n",
    "df['mean_requests_age'] = df['age'].map(mean_bki)"
   ]
  },
  {
   "cell_type": "code",
   "execution_count": 80,
   "id": "617d1c93",
   "metadata": {},
   "outputs": [],
   "source": [
    "# Добавим столбец со средним доходом по региону\n",
    "mean_income_rat = df.groupby('region_rating')['income'].mean().to_dict()\n",
    "df['mean_income_region'] = df['region_rating'].map(mean_income_rat)"
   ]
  },
  {
   "cell_type": "code",
   "execution_count": 81,
   "id": "ced67574",
   "metadata": {
    "scrolled": true
   },
   "outputs": [
    {
     "data": {
      "text/html": [
       "<style  type=\"text/css\" >\n",
       "    #T_35cf6_ th {\n",
       "          font-size: 7pt;\n",
       "    }    #T_35cf6_ td {\n",
       "          padding: 0em 0em;\n",
       "    }    #T_35cf6_ th:hover {\n",
       "          font-size: 12pt;\n",
       "    }    #T_35cf6_ tr:hover td:hover {\n",
       "          max-width: 200px;\n",
       "          font-size: 12pt;\n",
       "    }#T_35cf6_row0_col0,#T_35cf6_row1_col1,#T_35cf6_row2_col2,#T_35cf6_row3_col3,#T_35cf6_row4_col4,#T_35cf6_row5_col5,#T_35cf6_row6_col6,#T_35cf6_row7_col7,#T_35cf6_row8_col8,#T_35cf6_row9_col9,#T_35cf6_row10_col10,#T_35cf6_row11_col11{\n",
       "            background-color:  #4479bb;\n",
       "            color:  #000000;\n",
       "            max-width:  80px;\n",
       "            font-size:  10pt;\n",
       "        }#T_35cf6_row0_col1{\n",
       "            background-color:  #e69caa;\n",
       "            color:  #000000;\n",
       "            max-width:  80px;\n",
       "            font-size:  10pt;\n",
       "        }#T_35cf6_row0_col2{\n",
       "            background-color:  #e7a5b2;\n",
       "            color:  #000000;\n",
       "            max-width:  80px;\n",
       "            font-size:  10pt;\n",
       "        }#T_35cf6_row0_col3,#T_35cf6_row5_col11{\n",
       "            background-color:  #ecc9d0;\n",
       "            color:  #000000;\n",
       "            max-width:  80px;\n",
       "            font-size:  10pt;\n",
       "        }#T_35cf6_row0_col4,#T_35cf6_row0_col11{\n",
       "            background-color:  #e8abb7;\n",
       "            color:  #000000;\n",
       "            max-width:  80px;\n",
       "            font-size:  10pt;\n",
       "        }#T_35cf6_row0_col5{\n",
       "            background-color:  #e6a0ae;\n",
       "            color:  #000000;\n",
       "            max-width:  80px;\n",
       "            font-size:  10pt;\n",
       "        }#T_35cf6_row0_col6,#T_35cf6_row7_col6{\n",
       "            background-color:  #eabbc4;\n",
       "            color:  #000000;\n",
       "            max-width:  80px;\n",
       "            font-size:  10pt;\n",
       "        }#T_35cf6_row0_col7,#T_35cf6_row1_col0,#T_35cf6_row2_col0,#T_35cf6_row3_col4,#T_35cf6_row3_col11,#T_35cf6_row4_col0,#T_35cf6_row5_col0,#T_35cf6_row6_col4,#T_35cf6_row6_col5,#T_35cf6_row7_col0,#T_35cf6_row8_col1,#T_35cf6_row9_col1,#T_35cf6_row10_col1,#T_35cf6_row11_col0{\n",
       "            background-color:  #d73c5b;\n",
       "            color:  #f1f1f1;\n",
       "            max-width:  80px;\n",
       "            font-size:  10pt;\n",
       "        }#T_35cf6_row0_col8{\n",
       "            background-color:  #eed6db;\n",
       "            color:  #000000;\n",
       "            max-width:  80px;\n",
       "            font-size:  10pt;\n",
       "        }#T_35cf6_row0_col9{\n",
       "            background-color:  #eed4d9;\n",
       "            color:  #000000;\n",
       "            max-width:  80px;\n",
       "            font-size:  10pt;\n",
       "        }#T_35cf6_row0_col10{\n",
       "            background-color:  #c7d4e5;\n",
       "            color:  #000000;\n",
       "            max-width:  80px;\n",
       "            font-size:  10pt;\n",
       "        }#T_35cf6_row1_col2{\n",
       "            background-color:  #e9b1bc;\n",
       "            color:  #000000;\n",
       "            max-width:  80px;\n",
       "            font-size:  10pt;\n",
       "        }#T_35cf6_row1_col3{\n",
       "            background-color:  #e494a4;\n",
       "            color:  #000000;\n",
       "            max-width:  80px;\n",
       "            font-size:  10pt;\n",
       "        }#T_35cf6_row1_col4,#T_35cf6_row1_col11{\n",
       "            background-color:  #dc5973;\n",
       "            color:  #000000;\n",
       "            max-width:  80px;\n",
       "            font-size:  10pt;\n",
       "        }#T_35cf6_row1_col5,#T_35cf6_row2_col7{\n",
       "            background-color:  #dd627b;\n",
       "            color:  #000000;\n",
       "            max-width:  80px;\n",
       "            font-size:  10pt;\n",
       "        }#T_35cf6_row1_col6,#T_35cf6_row9_col10{\n",
       "            background-color:  #dd657d;\n",
       "            color:  #000000;\n",
       "            max-width:  80px;\n",
       "            font-size:  10pt;\n",
       "        }#T_35cf6_row1_col7,#T_35cf6_row8_col0{\n",
       "            background-color:  #e07389;\n",
       "            color:  #000000;\n",
       "            max-width:  80px;\n",
       "            font-size:  10pt;\n",
       "        }#T_35cf6_row1_col8,#T_35cf6_row4_col2{\n",
       "            background-color:  #db5771;\n",
       "            color:  #000000;\n",
       "            max-width:  80px;\n",
       "            font-size:  10pt;\n",
       "        }#T_35cf6_row1_col9{\n",
       "            background-color:  #db5570;\n",
       "            color:  #000000;\n",
       "            max-width:  80px;\n",
       "            font-size:  10pt;\n",
       "        }#T_35cf6_row1_col10{\n",
       "            background-color:  #da4d69;\n",
       "            color:  #000000;\n",
       "            max-width:  80px;\n",
       "            font-size:  10pt;\n",
       "        }#T_35cf6_row2_col1{\n",
       "            background-color:  #e7a8b5;\n",
       "            color:  #000000;\n",
       "            max-width:  80px;\n",
       "            font-size:  10pt;\n",
       "        }#T_35cf6_row2_col3{\n",
       "            background-color:  #e38b9d;\n",
       "            color:  #000000;\n",
       "            max-width:  80px;\n",
       "            font-size:  10pt;\n",
       "        }#T_35cf6_row2_col4,#T_35cf6_row5_col1,#T_35cf6_row8_col3,#T_35cf6_row9_col4{\n",
       "            background-color:  #dc5e77;\n",
       "            color:  #000000;\n",
       "            max-width:  80px;\n",
       "            font-size:  10pt;\n",
       "        }#T_35cf6_row2_col5,#T_35cf6_row10_col6,#T_35cf6_row11_col2{\n",
       "            background-color:  #db5872;\n",
       "            color:  #000000;\n",
       "            max-width:  80px;\n",
       "            font-size:  10pt;\n",
       "        }#T_35cf6_row2_col6,#T_35cf6_row4_col7,#T_35cf6_row10_col5,#T_35cf6_row11_col7{\n",
       "            background-color:  #dc5c76;\n",
       "            color:  #000000;\n",
       "            max-width:  80px;\n",
       "            font-size:  10pt;\n",
       "        }#T_35cf6_row2_col8,#T_35cf6_row3_col8,#T_35cf6_row4_col6,#T_35cf6_row9_col3,#T_35cf6_row11_col3{\n",
       "            background-color:  #da516c;\n",
       "            color:  #000000;\n",
       "            max-width:  80px;\n",
       "            font-size:  10pt;\n",
       "        }#T_35cf6_row2_col9,#T_35cf6_row3_col0,#T_35cf6_row8_col9,#T_35cf6_row11_col6{\n",
       "            background-color:  #db526e;\n",
       "            color:  #000000;\n",
       "            max-width:  80px;\n",
       "            font-size:  10pt;\n",
       "        }#T_35cf6_row2_col10,#T_35cf6_row4_col3,#T_35cf6_row9_col6{\n",
       "            background-color:  #da506b;\n",
       "            color:  #000000;\n",
       "            max-width:  80px;\n",
       "            font-size:  10pt;\n",
       "        }#T_35cf6_row2_col11{\n",
       "            background-color:  #dd5f78;\n",
       "            color:  #000000;\n",
       "            max-width:  80px;\n",
       "            font-size:  10pt;\n",
       "        }#T_35cf6_row3_col1,#T_35cf6_row3_col10{\n",
       "            background-color:  #df7086;\n",
       "            color:  #000000;\n",
       "            max-width:  80px;\n",
       "            font-size:  10pt;\n",
       "        }#T_35cf6_row3_col2,#T_35cf6_row10_col7{\n",
       "            background-color:  #e0748a;\n",
       "            color:  #000000;\n",
       "            max-width:  80px;\n",
       "            font-size:  10pt;\n",
       "        }#T_35cf6_row3_col5,#T_35cf6_row4_col9,#T_35cf6_row9_col11{\n",
       "            background-color:  #dd637c;\n",
       "            color:  #000000;\n",
       "            max-width:  80px;\n",
       "            font-size:  10pt;\n",
       "        }#T_35cf6_row3_col6,#T_35cf6_row3_col7,#T_35cf6_row4_col10,#T_35cf6_row6_col3,#T_35cf6_row8_col11,#T_35cf6_row11_col10{\n",
       "            background-color:  #d84361;\n",
       "            color:  #f1f1f1;\n",
       "            max-width:  80px;\n",
       "            font-size:  10pt;\n",
       "        }#T_35cf6_row3_col9,#T_35cf6_row8_col2,#T_35cf6_row9_col7{\n",
       "            background-color:  #d8415f;\n",
       "            color:  #f1f1f1;\n",
       "            max-width:  80px;\n",
       "            font-size:  10pt;\n",
       "        }#T_35cf6_row4_col1,#T_35cf6_row8_col4,#T_35cf6_row9_col2{\n",
       "            background-color:  #d84462;\n",
       "            color:  #f1f1f1;\n",
       "            max-width:  80px;\n",
       "            font-size:  10pt;\n",
       "        }#T_35cf6_row4_col5{\n",
       "            background-color:  #e9b5bf;\n",
       "            color:  #000000;\n",
       "            max-width:  80px;\n",
       "            font-size:  10pt;\n",
       "        }#T_35cf6_row4_col8,#T_35cf6_row11_col8{\n",
       "            background-color:  #da4b68;\n",
       "            color:  #000000;\n",
       "            max-width:  80px;\n",
       "            font-size:  10pt;\n",
       "        }#T_35cf6_row4_col11,#T_35cf6_row11_col4{\n",
       "            background-color:  #5c8ac2;\n",
       "            color:  #000000;\n",
       "            max-width:  80px;\n",
       "            font-size:  10pt;\n",
       "        }#T_35cf6_row5_col2,#T_35cf6_row5_col6{\n",
       "            background-color:  #dd6179;\n",
       "            color:  #000000;\n",
       "            max-width:  80px;\n",
       "            font-size:  10pt;\n",
       "        }#T_35cf6_row5_col3{\n",
       "            background-color:  #e28396;\n",
       "            color:  #000000;\n",
       "            max-width:  80px;\n",
       "            font-size:  10pt;\n",
       "        }#T_35cf6_row5_col4,#T_35cf6_row7_col2{\n",
       "            background-color:  #ebc1c9;\n",
       "            color:  #000000;\n",
       "            max-width:  80px;\n",
       "            font-size:  10pt;\n",
       "        }#T_35cf6_row5_col7{\n",
       "            background-color:  #e8aab6;\n",
       "            color:  #000000;\n",
       "            max-width:  80px;\n",
       "            font-size:  10pt;\n",
       "        }#T_35cf6_row5_col8{\n",
       "            background-color:  #e18093;\n",
       "            color:  #000000;\n",
       "            max-width:  80px;\n",
       "            font-size:  10pt;\n",
       "        }#T_35cf6_row5_col9{\n",
       "            background-color:  #e597a7;\n",
       "            color:  #000000;\n",
       "            max-width:  80px;\n",
       "            font-size:  10pt;\n",
       "        }#T_35cf6_row5_col10{\n",
       "            background-color:  #de687f;\n",
       "            color:  #000000;\n",
       "            max-width:  80px;\n",
       "            font-size:  10pt;\n",
       "        }#T_35cf6_row6_col0,#T_35cf6_row6_col1,#T_35cf6_row6_col7,#T_35cf6_row6_col11{\n",
       "            background-color:  #d73d5c;\n",
       "            color:  #f1f1f1;\n",
       "            max-width:  80px;\n",
       "            font-size:  10pt;\n",
       "        }#T_35cf6_row6_col2,#T_35cf6_row6_col8,#T_35cf6_row6_col9,#T_35cf6_row6_col10{\n",
       "            background-color:  #d8405e;\n",
       "            color:  #f1f1f1;\n",
       "            max-width:  80px;\n",
       "            font-size:  10pt;\n",
       "        }#T_35cf6_row7_col1{\n",
       "            background-color:  #ecc5cc;\n",
       "            color:  #000000;\n",
       "            max-width:  80px;\n",
       "            font-size:  10pt;\n",
       "        }#T_35cf6_row7_col3,#T_35cf6_row11_col5{\n",
       "            background-color:  #ebbec6;\n",
       "            color:  #000000;\n",
       "            max-width:  80px;\n",
       "            font-size:  10pt;\n",
       "        }#T_35cf6_row7_col4,#T_35cf6_row7_col11{\n",
       "            background-color:  #ebc2ca;\n",
       "            color:  #000000;\n",
       "            max-width:  80px;\n",
       "            font-size:  10pt;\n",
       "        }#T_35cf6_row7_col5{\n",
       "            background-color:  #f2eff0;\n",
       "            color:  #000000;\n",
       "            max-width:  80px;\n",
       "            font-size:  10pt;\n",
       "        }#T_35cf6_row7_col8{\n",
       "            background-color:  #c5d3e4;\n",
       "            color:  #000000;\n",
       "            max-width:  80px;\n",
       "            font-size:  10pt;\n",
       "        }#T_35cf6_row7_col9{\n",
       "            background-color:  #e9b4be;\n",
       "            color:  #000000;\n",
       "            max-width:  80px;\n",
       "            font-size:  10pt;\n",
       "        }#T_35cf6_row7_col10,#T_35cf6_row8_col10{\n",
       "            background-color:  #eed2d7;\n",
       "            color:  #000000;\n",
       "            max-width:  80px;\n",
       "            font-size:  10pt;\n",
       "        }#T_35cf6_row8_col5,#T_35cf6_row10_col9{\n",
       "            background-color:  #de6c83;\n",
       "            color:  #000000;\n",
       "            max-width:  80px;\n",
       "            font-size:  10pt;\n",
       "        }#T_35cf6_row8_col6{\n",
       "            background-color:  #da4e6a;\n",
       "            color:  #000000;\n",
       "            max-width:  80px;\n",
       "            font-size:  10pt;\n",
       "        }#T_35cf6_row8_col7{\n",
       "            background-color:  #f0e0e3;\n",
       "            color:  #000000;\n",
       "            max-width:  80px;\n",
       "            font-size:  10pt;\n",
       "        }#T_35cf6_row9_col0{\n",
       "            background-color:  #df7288;\n",
       "            color:  #000000;\n",
       "            max-width:  80px;\n",
       "            font-size:  10pt;\n",
       "        }#T_35cf6_row9_col5{\n",
       "            background-color:  #e28698;\n",
       "            color:  #000000;\n",
       "            max-width:  80px;\n",
       "            font-size:  10pt;\n",
       "        }#T_35cf6_row9_col8{\n",
       "            background-color:  #db546f;\n",
       "            color:  #000000;\n",
       "            max-width:  80px;\n",
       "            font-size:  10pt;\n",
       "        }#T_35cf6_row10_col0{\n",
       "            background-color:  #f0e3e5;\n",
       "            color:  #000000;\n",
       "            max-width:  80px;\n",
       "            font-size:  10pt;\n",
       "        }#T_35cf6_row10_col2{\n",
       "            background-color:  #d94a67;\n",
       "            color:  #000000;\n",
       "            max-width:  80px;\n",
       "            font-size:  10pt;\n",
       "        }#T_35cf6_row10_col3{\n",
       "            background-color:  #e28497;\n",
       "            color:  #000000;\n",
       "            max-width:  80px;\n",
       "            font-size:  10pt;\n",
       "        }#T_35cf6_row10_col4,#T_35cf6_row10_col11,#T_35cf6_row11_col1{\n",
       "            background-color:  #d94663;\n",
       "            color:  #f1f1f1;\n",
       "            max-width:  80px;\n",
       "            font-size:  10pt;\n",
       "        }#T_35cf6_row10_col8{\n",
       "            background-color:  #efd7dc;\n",
       "            color:  #000000;\n",
       "            max-width:  80px;\n",
       "            font-size:  10pt;\n",
       "        }#T_35cf6_row11_col9{\n",
       "            background-color:  #de6980;\n",
       "            color:  #000000;\n",
       "            max-width:  80px;\n",
       "            font-size:  10pt;\n",
       "        }</style><table id=\"T_35cf6_\" ><caption>Hover to magnify</caption><thead>    <tr>        <th class=\"blank level0\" ></th>        <th class=\"col_heading level0 col0\" >age</th>        <th class=\"col_heading level0 col1\" >decline_app_cnt</th>        <th class=\"col_heading level0 col2\" >score_bki</th>        <th class=\"col_heading level0 col3\" >bki_request_cnt</th>        <th class=\"col_heading level0 col4\" >region_rating</th>        <th class=\"col_heading level0 col5\" >income</th>        <th class=\"col_heading level0 col6\" >time_relevance</th>        <th class=\"col_heading level0 col7\" >mean_income_age</th>        <th class=\"col_heading level0 col8\" >max_income_age</th>        <th class=\"col_heading level0 col9\" >normalized_income</th>        <th class=\"col_heading level0 col10\" >mean_requests_age</th>        <th class=\"col_heading level0 col11\" >mean_income_region</th>    </tr></thead><tbody>\n",
       "                <tr>\n",
       "                        <th id=\"T_35cf6_level0_row0\" class=\"row_heading level0 row0\" >age</th>\n",
       "                        <td id=\"T_35cf6_row0_col0\" class=\"data row0 col0\" >1.00</td>\n",
       "                        <td id=\"T_35cf6_row0_col1\" class=\"data row0 col1\" >-0.13</td>\n",
       "                        <td id=\"T_35cf6_row0_col2\" class=\"data row0 col2\" >-0.09</td>\n",
       "                        <td id=\"T_35cf6_row0_col3\" class=\"data row0 col3\" >0.06</td>\n",
       "                        <td id=\"T_35cf6_row0_col4\" class=\"data row0 col4\" >-0.07</td>\n",
       "                        <td id=\"T_35cf6_row0_col5\" class=\"data row0 col5\" >-0.12</td>\n",
       "                        <td id=\"T_35cf6_row0_col6\" class=\"data row0 col6\" >-0.00</td>\n",
       "                        <td id=\"T_35cf6_row0_col7\" class=\"data row0 col7\" >-0.54</td>\n",
       "                        <td id=\"T_35cf6_row0_col8\" class=\"data row0 col8\" >0.11</td>\n",
       "                        <td id=\"T_35cf6_row0_col9\" class=\"data row0 col9\" >0.11</td>\n",
       "                        <td id=\"T_35cf6_row0_col10\" class=\"data row0 col10\" >0.42</td>\n",
       "                        <td id=\"T_35cf6_row0_col11\" class=\"data row0 col11\" >-0.07</td>\n",
       "            </tr>\n",
       "            <tr>\n",
       "                        <th id=\"T_35cf6_level0_row1\" class=\"row_heading level0 row1\" >decline_app_cnt</th>\n",
       "                        <td id=\"T_35cf6_row1_col0\" class=\"data row1 col0\" >-0.13</td>\n",
       "                        <td id=\"T_35cf6_row1_col1\" class=\"data row1 col1\" >1.00</td>\n",
       "                        <td id=\"T_35cf6_row1_col2\" class=\"data row1 col2\" >0.23</td>\n",
       "                        <td id=\"T_35cf6_row1_col3\" class=\"data row1 col3\" >0.14</td>\n",
       "                        <td id=\"T_35cf6_row1_col4\" class=\"data row1 col4\" >-0.04</td>\n",
       "                        <td id=\"T_35cf6_row1_col5\" class=\"data row1 col5\" >-0.01</td>\n",
       "                        <td id=\"T_35cf6_row1_col6\" class=\"data row1 col6\" >-0.00</td>\n",
       "                        <td id=\"T_35cf6_row1_col7\" class=\"data row1 col7\" >0.04</td>\n",
       "                        <td id=\"T_35cf6_row1_col8\" class=\"data row1 col8\" >-0.05</td>\n",
       "                        <td id=\"T_35cf6_row1_col9\" class=\"data row1 col9\" >-0.05</td>\n",
       "                        <td id=\"T_35cf6_row1_col10\" class=\"data row1 col10\" >-0.08</td>\n",
       "                        <td id=\"T_35cf6_row1_col11\" class=\"data row1 col11\" >-0.04</td>\n",
       "            </tr>\n",
       "            <tr>\n",
       "                        <th id=\"T_35cf6_level0_row2\" class=\"row_heading level0 row2\" >score_bki</th>\n",
       "                        <td id=\"T_35cf6_row2_col0\" class=\"data row2 col0\" >-0.09</td>\n",
       "                        <td id=\"T_35cf6_row2_col1\" class=\"data row2 col1\" >0.23</td>\n",
       "                        <td id=\"T_35cf6_row2_col2\" class=\"data row2 col2\" >1.00</td>\n",
       "                        <td id=\"T_35cf6_row2_col3\" class=\"data row2 col3\" >0.15</td>\n",
       "                        <td id=\"T_35cf6_row2_col4\" class=\"data row2 col4\" >0.01</td>\n",
       "                        <td id=\"T_35cf6_row2_col5\" class=\"data row2 col5\" >-0.00</td>\n",
       "                        <td id=\"T_35cf6_row2_col6\" class=\"data row2 col6\" >0.01</td>\n",
       "                        <td id=\"T_35cf6_row2_col7\" class=\"data row2 col7\" >0.02</td>\n",
       "                        <td id=\"T_35cf6_row2_col8\" class=\"data row2 col8\" >-0.03</td>\n",
       "                        <td id=\"T_35cf6_row2_col9\" class=\"data row2 col9\" >-0.02</td>\n",
       "                        <td id=\"T_35cf6_row2_col10\" class=\"data row2 col10\" >-0.03</td>\n",
       "                        <td id=\"T_35cf6_row2_col11\" class=\"data row2 col11\" >0.02</td>\n",
       "            </tr>\n",
       "            <tr>\n",
       "                        <th id=\"T_35cf6_level0_row3\" class=\"row_heading level0 row3\" >bki_request_cnt</th>\n",
       "                        <td id=\"T_35cf6_row3_col0\" class=\"data row3 col0\" >0.06</td>\n",
       "                        <td id=\"T_35cf6_row3_col1\" class=\"data row3 col1\" >0.14</td>\n",
       "                        <td id=\"T_35cf6_row3_col2\" class=\"data row3 col2\" >0.15</td>\n",
       "                        <td id=\"T_35cf6_row3_col3\" class=\"data row3 col3\" >1.00</td>\n",
       "                        <td id=\"T_35cf6_row3_col4\" class=\"data row3 col4\" >-0.01</td>\n",
       "                        <td id=\"T_35cf6_row3_col5\" class=\"data row3 col5\" >0.10</td>\n",
       "                        <td id=\"T_35cf6_row3_col6\" class=\"data row3 col6\" >0.02</td>\n",
       "                        <td id=\"T_35cf6_row3_col7\" class=\"data row3 col7\" >0.01</td>\n",
       "                        <td id=\"T_35cf6_row3_col8\" class=\"data row3 col8\" >0.05</td>\n",
       "                        <td id=\"T_35cf6_row3_col9\" class=\"data row3 col9\" >0.01</td>\n",
       "                        <td id=\"T_35cf6_row3_col10\" class=\"data row3 col10\" >0.14</td>\n",
       "                        <td id=\"T_35cf6_row3_col11\" class=\"data row3 col11\" >-0.01</td>\n",
       "            </tr>\n",
       "            <tr>\n",
       "                        <th id=\"T_35cf6_level0_row4\" class=\"row_heading level0 row4\" >region_rating</th>\n",
       "                        <td id=\"T_35cf6_row4_col0\" class=\"data row4 col0\" >-0.07</td>\n",
       "                        <td id=\"T_35cf6_row4_col1\" class=\"data row4 col1\" >-0.04</td>\n",
       "                        <td id=\"T_35cf6_row4_col2\" class=\"data row4 col2\" >0.01</td>\n",
       "                        <td id=\"T_35cf6_row4_col3\" class=\"data row4 col3\" >-0.01</td>\n",
       "                        <td id=\"T_35cf6_row4_col4\" class=\"data row4 col4\" >1.00</td>\n",
       "                        <td id=\"T_35cf6_row4_col5\" class=\"data row4 col5\" >0.29</td>\n",
       "                        <td id=\"T_35cf6_row4_col6\" class=\"data row4 col6\" >-0.01</td>\n",
       "                        <td id=\"T_35cf6_row4_col7\" class=\"data row4 col7\" >0.03</td>\n",
       "                        <td id=\"T_35cf6_row4_col8\" class=\"data row4 col8\" >-0.02</td>\n",
       "                        <td id=\"T_35cf6_row4_col9\" class=\"data row4 col9\" >0.05</td>\n",
       "                        <td id=\"T_35cf6_row4_col10\" class=\"data row4 col10\" >-0.05</td>\n",
       "                        <td id=\"T_35cf6_row4_col11\" class=\"data row4 col11\" >0.92</td>\n",
       "            </tr>\n",
       "            <tr>\n",
       "                        <th id=\"T_35cf6_level0_row5\" class=\"row_heading level0 row5\" >income</th>\n",
       "                        <td id=\"T_35cf6_row5_col0\" class=\"data row5 col0\" >-0.12</td>\n",
       "                        <td id=\"T_35cf6_row5_col1\" class=\"data row5 col1\" >-0.01</td>\n",
       "                        <td id=\"T_35cf6_row5_col2\" class=\"data row5 col2\" >-0.00</td>\n",
       "                        <td id=\"T_35cf6_row5_col3\" class=\"data row5 col3\" >0.10</td>\n",
       "                        <td id=\"T_35cf6_row5_col4\" class=\"data row5 col4\" >0.29</td>\n",
       "                        <td id=\"T_35cf6_row5_col5\" class=\"data row5 col5\" >1.00</td>\n",
       "                        <td id=\"T_35cf6_row5_col6\" class=\"data row5 col6\" >-0.00</td>\n",
       "                        <td id=\"T_35cf6_row5_col7\" class=\"data row5 col7\" >0.22</td>\n",
       "                        <td id=\"T_35cf6_row5_col8\" class=\"data row5 col8\" >0.09</td>\n",
       "                        <td id=\"T_35cf6_row5_col9\" class=\"data row5 col9\" >0.16</td>\n",
       "                        <td id=\"T_35cf6_row5_col10\" class=\"data row5 col10\" >0.02</td>\n",
       "                        <td id=\"T_35cf6_row5_col11\" class=\"data row5 col11\" >0.31</td>\n",
       "            </tr>\n",
       "            <tr>\n",
       "                        <th id=\"T_35cf6_level0_row6\" class=\"row_heading level0 row6\" >time_relevance</th>\n",
       "                        <td id=\"T_35cf6_row6_col0\" class=\"data row6 col0\" >-0.00</td>\n",
       "                        <td id=\"T_35cf6_row6_col1\" class=\"data row6 col1\" >-0.00</td>\n",
       "                        <td id=\"T_35cf6_row6_col2\" class=\"data row6 col2\" >0.01</td>\n",
       "                        <td id=\"T_35cf6_row6_col3\" class=\"data row6 col3\" >0.02</td>\n",
       "                        <td id=\"T_35cf6_row6_col4\" class=\"data row6 col4\" >-0.01</td>\n",
       "                        <td id=\"T_35cf6_row6_col5\" class=\"data row6 col5\" >-0.00</td>\n",
       "                        <td id=\"T_35cf6_row6_col6\" class=\"data row6 col6\" >1.00</td>\n",
       "                        <td id=\"T_35cf6_row6_col7\" class=\"data row6 col7\" >0.00</td>\n",
       "                        <td id=\"T_35cf6_row6_col8\" class=\"data row6 col8\" >0.01</td>\n",
       "                        <td id=\"T_35cf6_row6_col9\" class=\"data row6 col9\" >0.01</td>\n",
       "                        <td id=\"T_35cf6_row6_col10\" class=\"data row6 col10\" >0.01</td>\n",
       "                        <td id=\"T_35cf6_row6_col11\" class=\"data row6 col11\" >-0.00</td>\n",
       "            </tr>\n",
       "            <tr>\n",
       "                        <th id=\"T_35cf6_level0_row7\" class=\"row_heading level0 row7\" >mean_income_age</th>\n",
       "                        <td id=\"T_35cf6_row7_col0\" class=\"data row7 col0\" >-0.54</td>\n",
       "                        <td id=\"T_35cf6_row7_col1\" class=\"data row7 col1\" >0.04</td>\n",
       "                        <td id=\"T_35cf6_row7_col2\" class=\"data row7 col2\" >0.02</td>\n",
       "                        <td id=\"T_35cf6_row7_col3\" class=\"data row7 col3\" >0.01</td>\n",
       "                        <td id=\"T_35cf6_row7_col4\" class=\"data row7 col4\" >0.03</td>\n",
       "                        <td id=\"T_35cf6_row7_col5\" class=\"data row7 col5\" >0.22</td>\n",
       "                        <td id=\"T_35cf6_row7_col6\" class=\"data row7 col6\" >0.00</td>\n",
       "                        <td id=\"T_35cf6_row7_col7\" class=\"data row7 col7\" >1.00</td>\n",
       "                        <td id=\"T_35cf6_row7_col8\" class=\"data row7 col8\" >0.42</td>\n",
       "                        <td id=\"T_35cf6_row7_col9\" class=\"data row7 col9\" >-0.03</td>\n",
       "                        <td id=\"T_35cf6_row7_col10\" class=\"data row7 col10\" >0.09</td>\n",
       "                        <td id=\"T_35cf6_row7_col11\" class=\"data row7 col11\" >0.03</td>\n",
       "            </tr>\n",
       "            <tr>\n",
       "                        <th id=\"T_35cf6_level0_row8\" class=\"row_heading level0 row8\" >max_income_age</th>\n",
       "                        <td id=\"T_35cf6_row8_col0\" class=\"data row8 col0\" >0.11</td>\n",
       "                        <td id=\"T_35cf6_row8_col1\" class=\"data row8 col1\" >-0.05</td>\n",
       "                        <td id=\"T_35cf6_row8_col2\" class=\"data row8 col2\" >-0.03</td>\n",
       "                        <td id=\"T_35cf6_row8_col3\" class=\"data row8 col3\" >0.05</td>\n",
       "                        <td id=\"T_35cf6_row8_col4\" class=\"data row8 col4\" >-0.02</td>\n",
       "                        <td id=\"T_35cf6_row8_col5\" class=\"data row8 col5\" >0.09</td>\n",
       "                        <td id=\"T_35cf6_row8_col6\" class=\"data row8 col6\" >0.01</td>\n",
       "                        <td id=\"T_35cf6_row8_col7\" class=\"data row8 col7\" >0.42</td>\n",
       "                        <td id=\"T_35cf6_row8_col8\" class=\"data row8 col8\" >1.00</td>\n",
       "                        <td id=\"T_35cf6_row8_col9\" class=\"data row8 col9\" >0.02</td>\n",
       "                        <td id=\"T_35cf6_row8_col10\" class=\"data row8 col10\" >0.38</td>\n",
       "                        <td id=\"T_35cf6_row8_col11\" class=\"data row8 col11\" >-0.02</td>\n",
       "            </tr>\n",
       "            <tr>\n",
       "                        <th id=\"T_35cf6_level0_row9\" class=\"row_heading level0 row9\" >normalized_income</th>\n",
       "                        <td id=\"T_35cf6_row9_col0\" class=\"data row9 col0\" >0.11</td>\n",
       "                        <td id=\"T_35cf6_row9_col1\" class=\"data row9 col1\" >-0.05</td>\n",
       "                        <td id=\"T_35cf6_row9_col2\" class=\"data row9 col2\" >-0.02</td>\n",
       "                        <td id=\"T_35cf6_row9_col3\" class=\"data row9 col3\" >0.01</td>\n",
       "                        <td id=\"T_35cf6_row9_col4\" class=\"data row9 col4\" >0.05</td>\n",
       "                        <td id=\"T_35cf6_row9_col5\" class=\"data row9 col5\" >0.16</td>\n",
       "                        <td id=\"T_35cf6_row9_col6\" class=\"data row9 col6\" >0.01</td>\n",
       "                        <td id=\"T_35cf6_row9_col7\" class=\"data row9 col7\" >-0.03</td>\n",
       "                        <td id=\"T_35cf6_row9_col8\" class=\"data row9 col8\" >0.02</td>\n",
       "                        <td id=\"T_35cf6_row9_col9\" class=\"data row9 col9\" >1.00</td>\n",
       "                        <td id=\"T_35cf6_row9_col10\" class=\"data row9 col10\" >0.07</td>\n",
       "                        <td id=\"T_35cf6_row9_col11\" class=\"data row9 col11\" >0.06</td>\n",
       "            </tr>\n",
       "            <tr>\n",
       "                        <th id=\"T_35cf6_level0_row10\" class=\"row_heading level0 row10\" >mean_requests_age</th>\n",
       "                        <td id=\"T_35cf6_row10_col0\" class=\"data row10 col0\" >0.42</td>\n",
       "                        <td id=\"T_35cf6_row10_col1\" class=\"data row10 col1\" >-0.08</td>\n",
       "                        <td id=\"T_35cf6_row10_col2\" class=\"data row10 col2\" >-0.03</td>\n",
       "                        <td id=\"T_35cf6_row10_col3\" class=\"data row10 col3\" >0.14</td>\n",
       "                        <td id=\"T_35cf6_row10_col4\" class=\"data row10 col4\" >-0.05</td>\n",
       "                        <td id=\"T_35cf6_row10_col5\" class=\"data row10 col5\" >0.02</td>\n",
       "                        <td id=\"T_35cf6_row10_col6\" class=\"data row10 col6\" >0.01</td>\n",
       "                        <td id=\"T_35cf6_row10_col7\" class=\"data row10 col7\" >0.09</td>\n",
       "                        <td id=\"T_35cf6_row10_col8\" class=\"data row10 col8\" >0.38</td>\n",
       "                        <td id=\"T_35cf6_row10_col9\" class=\"data row10 col9\" >0.07</td>\n",
       "                        <td id=\"T_35cf6_row10_col10\" class=\"data row10 col10\" >1.00</td>\n",
       "                        <td id=\"T_35cf6_row10_col11\" class=\"data row10 col11\" >-0.05</td>\n",
       "            </tr>\n",
       "            <tr>\n",
       "                        <th id=\"T_35cf6_level0_row11\" class=\"row_heading level0 row11\" >mean_income_region</th>\n",
       "                        <td id=\"T_35cf6_row11_col0\" class=\"data row11 col0\" >-0.07</td>\n",
       "                        <td id=\"T_35cf6_row11_col1\" class=\"data row11 col1\" >-0.04</td>\n",
       "                        <td id=\"T_35cf6_row11_col2\" class=\"data row11 col2\" >0.02</td>\n",
       "                        <td id=\"T_35cf6_row11_col3\" class=\"data row11 col3\" >-0.01</td>\n",
       "                        <td id=\"T_35cf6_row11_col4\" class=\"data row11 col4\" >0.92</td>\n",
       "                        <td id=\"T_35cf6_row11_col5\" class=\"data row11 col5\" >0.31</td>\n",
       "                        <td id=\"T_35cf6_row11_col6\" class=\"data row11 col6\" >-0.00</td>\n",
       "                        <td id=\"T_35cf6_row11_col7\" class=\"data row11 col7\" >0.03</td>\n",
       "                        <td id=\"T_35cf6_row11_col8\" class=\"data row11 col8\" >-0.02</td>\n",
       "                        <td id=\"T_35cf6_row11_col9\" class=\"data row11 col9\" >0.06</td>\n",
       "                        <td id=\"T_35cf6_row11_col10\" class=\"data row11 col10\" >-0.05</td>\n",
       "                        <td id=\"T_35cf6_row11_col11\" class=\"data row11 col11\" >1.00</td>\n",
       "            </tr>\n",
       "    </tbody></table>"
      ],
      "text/plain": [
       "<pandas.io.formats.style.Styler at 0x25e6608b760>"
      ]
     },
     "metadata": {},
     "output_type": "display_data"
    }
   ],
   "source": [
    "# Посмотрим на матрицу корреляций\n",
    "plot_corr_heatmap(df[['age', 'decline_app_cnt', 'score_bki', 'bki_request_cnt', 'region_rating',\n",
    "                    'income', 'time_relevance', 'mean_income_age', 'max_income_age', 'normalized_income',\n",
    "                    'mean_requests_age', 'mean_income_region']])\n",
    "# Отметим что новые признаки сильно коллерированы с начальными. \n",
    "# Метрики они при тестировании не повысили так что решено их не брать в модель."
   ]
  },
  {
   "cell_type": "markdown",
   "id": "6847f837",
   "metadata": {},
   "source": [
    "## Стандартизация числовых признаков"
   ]
  },
  {
   "cell_type": "code",
   "execution_count": 82,
   "id": "c62f6fae",
   "metadata": {},
   "outputs": [
    {
     "name": "stdout",
     "output_type": "stream",
     "text": [
      "Размерность числовых признаков: (18744, 7)\n"
     ]
    }
   ],
   "source": [
    "# Стандартизируем числовые признаки и запишем их в переменную numpy\n",
    "X_num = StandardScaler().fit_transform(df[['age', 'decline_app_cnt', 'score_bki', 'bki_request_cnt', 'region_rating',\n",
    "                    'income', 'time_relevance']].values)\n",
    "print('Размерность числовых признаков: {}'.format(X_num.shape))"
   ]
  },
  {
   "cell_type": "markdown",
   "id": "9b76076e",
   "metadata": {},
   "source": [
    "## Обработка категоральных признаков"
   ]
  },
  {
   "cell_type": "code",
   "execution_count": 83,
   "id": "600d9185",
   "metadata": {},
   "outputs": [],
   "source": [
    "# Переведём категоральные значения столбца education в числа\n",
    "df['education'].update(df['education'].apply(education_to_int))\n",
    "df['education'] = pd.to_numeric(df['education'])"
   ]
  },
  {
   "cell_type": "code",
   "execution_count": 84,
   "id": "b8880497",
   "metadata": {},
   "outputs": [
    {
     "data": {
      "text/html": [
       "<style  type=\"text/css\" >\n",
       "    #T_b60ca_ th {\n",
       "          font-size: 7pt;\n",
       "    }    #T_b60ca_ td {\n",
       "          padding: 0em 0em;\n",
       "    }    #T_b60ca_ th:hover {\n",
       "          font-size: 12pt;\n",
       "    }    #T_b60ca_ tr:hover td:hover {\n",
       "          max-width: 200px;\n",
       "          font-size: 12pt;\n",
       "    }#T_b60ca_row0_col0,#T_b60ca_row1_col1,#T_b60ca_row2_col2,#T_b60ca_row3_col3,#T_b60ca_row4_col4{\n",
       "            background-color:  #4479bb;\n",
       "            color:  #000000;\n",
       "            max-width:  80px;\n",
       "            font-size:  10pt;\n",
       "        }#T_b60ca_row0_col1{\n",
       "            background-color:  #dc5b75;\n",
       "            color:  #000000;\n",
       "            max-width:  80px;\n",
       "            font-size:  10pt;\n",
       "        }#T_b60ca_row0_col2{\n",
       "            background-color:  #dc5973;\n",
       "            color:  #000000;\n",
       "            max-width:  80px;\n",
       "            font-size:  10pt;\n",
       "        }#T_b60ca_row0_col3,#T_b60ca_row1_col4,#T_b60ca_row2_col4,#T_b60ca_row3_col4,#T_b60ca_row4_col3{\n",
       "            background-color:  #d73c5b;\n",
       "            color:  #f1f1f1;\n",
       "            max-width:  80px;\n",
       "            font-size:  10pt;\n",
       "        }#T_b60ca_row0_col4,#T_b60ca_row1_col3{\n",
       "            background-color:  #e28698;\n",
       "            color:  #000000;\n",
       "            max-width:  80px;\n",
       "            font-size:  10pt;\n",
       "        }#T_b60ca_row1_col0{\n",
       "            background-color:  #da506b;\n",
       "            color:  #000000;\n",
       "            max-width:  80px;\n",
       "            font-size:  10pt;\n",
       "        }#T_b60ca_row1_col2,#T_b60ca_row2_col1{\n",
       "            background-color:  #95b1d5;\n",
       "            color:  #000000;\n",
       "            max-width:  80px;\n",
       "            font-size:  10pt;\n",
       "        }#T_b60ca_row2_col0{\n",
       "            background-color:  #db526e;\n",
       "            color:  #000000;\n",
       "            max-width:  80px;\n",
       "            font-size:  10pt;\n",
       "        }#T_b60ca_row2_col3{\n",
       "            background-color:  #e3889a;\n",
       "            color:  #000000;\n",
       "            max-width:  80px;\n",
       "            font-size:  10pt;\n",
       "        }#T_b60ca_row3_col0{\n",
       "            background-color:  #e59aa9;\n",
       "            color:  #000000;\n",
       "            max-width:  80px;\n",
       "            font-size:  10pt;\n",
       "        }#T_b60ca_row3_col1,#T_b60ca_row3_col2{\n",
       "            background-color:  #efd9dd;\n",
       "            color:  #000000;\n",
       "            max-width:  80px;\n",
       "            font-size:  10pt;\n",
       "        }#T_b60ca_row4_col0{\n",
       "            background-color:  #eed2d7;\n",
       "            color:  #000000;\n",
       "            max-width:  80px;\n",
       "            font-size:  10pt;\n",
       "        }#T_b60ca_row4_col1{\n",
       "            background-color:  #e7a4b1;\n",
       "            color:  #000000;\n",
       "            max-width:  80px;\n",
       "            font-size:  10pt;\n",
       "        }#T_b60ca_row4_col2{\n",
       "            background-color:  #e6a1af;\n",
       "            color:  #000000;\n",
       "            max-width:  80px;\n",
       "            font-size:  10pt;\n",
       "        }</style><table id=\"T_b60ca_\" ><caption>Hover to magnify</caption><thead>    <tr>        <th class=\"blank level0\" ></th>        <th class=\"col_heading level0 col0\" >education</th>        <th class=\"col_heading level0 col1\" >home_address</th>        <th class=\"col_heading level0 col2\" >work_address</th>        <th class=\"col_heading level0 col3\" >sna</th>        <th class=\"col_heading level0 col4\" >first_time</th>    </tr></thead><tbody>\n",
       "                <tr>\n",
       "                        <th id=\"T_b60ca_level0_row0\" class=\"row_heading level0 row0\" >education</th>\n",
       "                        <td id=\"T_b60ca_row0_col0\" class=\"data row0 col0\" >1.00</td>\n",
       "                        <td id=\"T_b60ca_row0_col1\" class=\"data row0 col1\" >-0.01</td>\n",
       "                        <td id=\"T_b60ca_row0_col2\" class=\"data row0 col2\" >-0.02</td>\n",
       "                        <td id=\"T_b60ca_row0_col3\" class=\"data row0 col3\" >-0.11</td>\n",
       "                        <td id=\"T_b60ca_row0_col4\" class=\"data row0 col4\" >0.12</td>\n",
       "            </tr>\n",
       "            <tr>\n",
       "                        <th id=\"T_b60ca_level0_row1\" class=\"row_heading level0 row1\" >home_address</th>\n",
       "                        <td id=\"T_b60ca_row1_col0\" class=\"data row1 col0\" >-0.01</td>\n",
       "                        <td id=\"T_b60ca_row1_col1\" class=\"data row1 col1\" >1.00</td>\n",
       "                        <td id=\"T_b60ca_row1_col2\" class=\"data row1 col2\" >0.75</td>\n",
       "                        <td id=\"T_b60ca_row1_col3\" class=\"data row1 col3\" >0.15</td>\n",
       "                        <td id=\"T_b60ca_row1_col4\" class=\"data row1 col4\" >-0.07</td>\n",
       "            </tr>\n",
       "            <tr>\n",
       "                        <th id=\"T_b60ca_level0_row2\" class=\"row_heading level0 row2\" >work_address</th>\n",
       "                        <td id=\"T_b60ca_row2_col0\" class=\"data row2 col0\" >-0.02</td>\n",
       "                        <td id=\"T_b60ca_row2_col1\" class=\"data row2 col1\" >0.75</td>\n",
       "                        <td id=\"T_b60ca_row2_col2\" class=\"data row2 col2\" >1.00</td>\n",
       "                        <td id=\"T_b60ca_row2_col3\" class=\"data row2 col3\" >0.15</td>\n",
       "                        <td id=\"T_b60ca_row2_col4\" class=\"data row2 col4\" >-0.08</td>\n",
       "            </tr>\n",
       "            <tr>\n",
       "                        <th id=\"T_b60ca_level0_row3\" class=\"row_heading level0 row3\" >sna</th>\n",
       "                        <td id=\"T_b60ca_row3_col0\" class=\"data row3 col0\" >-0.11</td>\n",
       "                        <td id=\"T_b60ca_row3_col1\" class=\"data row3 col1\" >0.15</td>\n",
       "                        <td id=\"T_b60ca_row3_col2\" class=\"data row3 col2\" >0.15</td>\n",
       "                        <td id=\"T_b60ca_row3_col3\" class=\"data row3 col3\" >1.00</td>\n",
       "                        <td id=\"T_b60ca_row3_col4\" class=\"data row3 col4\" >-0.50</td>\n",
       "            </tr>\n",
       "            <tr>\n",
       "                        <th id=\"T_b60ca_level0_row4\" class=\"row_heading level0 row4\" >first_time</th>\n",
       "                        <td id=\"T_b60ca_row4_col0\" class=\"data row4 col0\" >0.12</td>\n",
       "                        <td id=\"T_b60ca_row4_col1\" class=\"data row4 col1\" >-0.07</td>\n",
       "                        <td id=\"T_b60ca_row4_col2\" class=\"data row4 col2\" >-0.08</td>\n",
       "                        <td id=\"T_b60ca_row4_col3\" class=\"data row4 col3\" >-0.50</td>\n",
       "                        <td id=\"T_b60ca_row4_col4\" class=\"data row4 col4\" >1.00</td>\n",
       "            </tr>\n",
       "    </tbody></table>"
      ],
      "text/plain": [
       "<pandas.io.formats.style.Styler at 0x25e6606d6d0>"
      ]
     },
     "metadata": {},
     "output_type": "display_data"
    },
    {
     "name": "stdout",
     "output_type": "stream",
     "text": [
      "home_address    304.197255\n",
      "work_address    322.573150\n",
      "education       329.378992\n",
      "first_time      433.055529\n",
      "sna             633.062071\n",
      "dtype: float64\n"
     ]
    },
    {
     "data": {
      "image/png": "[encoded data removed]",
      "text/plain": [
       "<Figure size 432x288 with 1 Axes>"
      ]
     },
     "metadata": {
      "needs_background": "light"
     },
     "output_type": "display_data"
    }
   ],
   "source": [
    "# Посмотрим корреляцию между карегоральными признаками и их значимость\n",
    "plot_corr_heatmap(df[['education', 'home_address', 'work_address', 'sna', 'first_time']])\n",
    "plot_feature_ranking(df[['education', 'home_address', 'work_address', 'sna', 'first_time']])\n",
    "# Признаки home_address и first_time существенно добавили к метрикам на тесте несмотря на их сильную коррелируемость\n",
    "# с work_address и sna. Решено их оставить."
   ]
  },
  {
   "cell_type": "code",
   "execution_count": 85,
   "id": "a5a78b95",
   "metadata": {},
   "outputs": [
    {
     "name": "stdout",
     "output_type": "stream",
     "text": [
      "Размерность категоральных признаков: (18744, 19)\n"
     ]
    }
   ],
   "source": [
    "# Разложем значимые категоральные признаки на бинарные и запишем их в переменную numpy\n",
    "X_cat = OneHotEncoder(sparse = False).fit_transform(df[['education', 'work_address', 'home_address',\n",
    "                                                        'sna', 'first_time']].values)\n",
    "\n",
    "print('Размерность категоральных признаков: {}'.format(X_cat.shape))"
   ]
  },
  {
   "cell_type": "markdown",
   "id": "52dd2e92",
   "metadata": {},
   "source": [
    "## Обработка бинарных признаков"
   ]
  },
  {
   "cell_type": "code",
   "execution_count": 86,
   "id": "cf95ce6b",
   "metadata": {},
   "outputs": [],
   "source": [
    "# Переведём бинарные признаки в числовой формат\n",
    "label_encoder = LabelEncoder()\n",
    "for column in df[['sex', 'car', 'car_type', 'good_work', 'foreign_passport']]:\n",
    "    df[column] = label_encoder.fit_transform(df[column])"
   ]
  },
  {
   "cell_type": "code",
   "execution_count": 87,
   "id": "16e6393f",
   "metadata": {},
   "outputs": [
    {
     "data": {
      "text/html": [
       "<style  type=\"text/css\" >\n",
       "    #T_5654f_ th {\n",
       "          font-size: 7pt;\n",
       "    }    #T_5654f_ td {\n",
       "          padding: 0em 0em;\n",
       "    }    #T_5654f_ th:hover {\n",
       "          font-size: 12pt;\n",
       "    }    #T_5654f_ tr:hover td:hover {\n",
       "          max-width: 200px;\n",
       "          font-size: 12pt;\n",
       "    }#T_5654f_row0_col0,#T_5654f_row1_col1,#T_5654f_row2_col2,#T_5654f_row3_col3,#T_5654f_row4_col4{\n",
       "            background-color:  #4479bb;\n",
       "            color:  #000000;\n",
       "            max-width:  80px;\n",
       "            font-size:  10pt;\n",
       "        }#T_5654f_row0_col1{\n",
       "            background-color:  #e8adb8;\n",
       "            color:  #000000;\n",
       "            max-width:  80px;\n",
       "            font-size:  10pt;\n",
       "        }#T_5654f_row0_col2{\n",
       "            background-color:  #e597a7;\n",
       "            color:  #000000;\n",
       "            max-width:  80px;\n",
       "            font-size:  10pt;\n",
       "        }#T_5654f_row0_col3,#T_5654f_row1_col3,#T_5654f_row2_col3,#T_5654f_row3_col0,#T_5654f_row4_col3{\n",
       "            background-color:  #d73c5b;\n",
       "            color:  #f1f1f1;\n",
       "            max-width:  80px;\n",
       "            font-size:  10pt;\n",
       "        }#T_5654f_row0_col4,#T_5654f_row2_col4{\n",
       "            background-color:  #de6980;\n",
       "            color:  #000000;\n",
       "            max-width:  80px;\n",
       "            font-size:  10pt;\n",
       "        }#T_5654f_row1_col0{\n",
       "            background-color:  #e69ead;\n",
       "            color:  #000000;\n",
       "            max-width:  80px;\n",
       "            font-size:  10pt;\n",
       "        }#T_5654f_row1_col2{\n",
       "            background-color:  #b4c7df;\n",
       "            color:  #000000;\n",
       "            max-width:  80px;\n",
       "            font-size:  10pt;\n",
       "        }#T_5654f_row1_col4,#T_5654f_row4_col2{\n",
       "            background-color:  #dd6179;\n",
       "            color:  #000000;\n",
       "            max-width:  80px;\n",
       "            font-size:  10pt;\n",
       "        }#T_5654f_row2_col0{\n",
       "            background-color:  #e28194;\n",
       "            color:  #000000;\n",
       "            max-width:  80px;\n",
       "            font-size:  10pt;\n",
       "        }#T_5654f_row2_col1{\n",
       "            background-color:  #b6c9e0;\n",
       "            color:  #000000;\n",
       "            max-width:  80px;\n",
       "            font-size:  10pt;\n",
       "        }#T_5654f_row3_col1{\n",
       "            background-color:  #da506b;\n",
       "            color:  #000000;\n",
       "            max-width:  80px;\n",
       "            font-size:  10pt;\n",
       "        }#T_5654f_row3_col2{\n",
       "            background-color:  #db5570;\n",
       "            color:  #000000;\n",
       "            max-width:  80px;\n",
       "            font-size:  10pt;\n",
       "        }#T_5654f_row3_col4{\n",
       "            background-color:  #dc5e77;\n",
       "            color:  #000000;\n",
       "            max-width:  80px;\n",
       "            font-size:  10pt;\n",
       "        }#T_5654f_row4_col0{\n",
       "            background-color:  #d94865;\n",
       "            color:  #000000;\n",
       "            max-width:  80px;\n",
       "            font-size:  10pt;\n",
       "        }#T_5654f_row4_col1{\n",
       "            background-color:  #db526e;\n",
       "            color:  #000000;\n",
       "            max-width:  80px;\n",
       "            font-size:  10pt;\n",
       "        }</style><table id=\"T_5654f_\" ><caption>Hover to magnify</caption><thead>    <tr>        <th class=\"blank level0\" ></th>        <th class=\"col_heading level0 col0\" >sex</th>        <th class=\"col_heading level0 col1\" >car</th>        <th class=\"col_heading level0 col2\" >car_type</th>        <th class=\"col_heading level0 col3\" >good_work</th>        <th class=\"col_heading level0 col4\" >foreign_passport</th>    </tr></thead><tbody>\n",
       "                <tr>\n",
       "                        <th id=\"T_5654f_level0_row0\" class=\"row_heading level0 row0\" >sex</th>\n",
       "                        <td id=\"T_5654f_row0_col0\" class=\"data row0 col0\" >1.00</td>\n",
       "                        <td id=\"T_5654f_row0_col1\" class=\"data row0 col1\" >0.27</td>\n",
       "                        <td id=\"T_5654f_row0_col2\" class=\"data row0 col2\" >0.21</td>\n",
       "                        <td id=\"T_5654f_row0_col3\" class=\"data row0 col3\" >-0.05</td>\n",
       "                        <td id=\"T_5654f_row0_col4\" class=\"data row0 col4\" >0.08</td>\n",
       "            </tr>\n",
       "            <tr>\n",
       "                        <th id=\"T_5654f_level0_row1\" class=\"row_heading level0 row1\" >car</th>\n",
       "                        <td id=\"T_5654f_row1_col0\" class=\"data row1 col0\" >0.27</td>\n",
       "                        <td id=\"T_5654f_row1_col1\" class=\"data row1 col1\" >1.00</td>\n",
       "                        <td id=\"T_5654f_row1_col2\" class=\"data row1 col2\" >0.68</td>\n",
       "                        <td id=\"T_5654f_row1_col3\" class=\"data row1 col3\" >0.00</td>\n",
       "                        <td id=\"T_5654f_row1_col4\" class=\"data row1 col4\" >0.11</td>\n",
       "            </tr>\n",
       "            <tr>\n",
       "                        <th id=\"T_5654f_level0_row2\" class=\"row_heading level0 row2\" >car_type</th>\n",
       "                        <td id=\"T_5654f_row2_col0\" class=\"data row2 col0\" >0.21</td>\n",
       "                        <td id=\"T_5654f_row2_col1\" class=\"data row2 col1\" >0.68</td>\n",
       "                        <td id=\"T_5654f_row2_col2\" class=\"data row2 col2\" >1.00</td>\n",
       "                        <td id=\"T_5654f_row2_col3\" class=\"data row2 col3\" >0.02</td>\n",
       "                        <td id=\"T_5654f_row2_col4\" class=\"data row2 col4\" >0.15</td>\n",
       "            </tr>\n",
       "            <tr>\n",
       "                        <th id=\"T_5654f_level0_row3\" class=\"row_heading level0 row3\" >good_work</th>\n",
       "                        <td id=\"T_5654f_row3_col0\" class=\"data row3 col0\" >-0.05</td>\n",
       "                        <td id=\"T_5654f_row3_col1\" class=\"data row3 col1\" >0.00</td>\n",
       "                        <td id=\"T_5654f_row3_col2\" class=\"data row3 col2\" >0.02</td>\n",
       "                        <td id=\"T_5654f_row3_col3\" class=\"data row3 col3\" >1.00</td>\n",
       "                        <td id=\"T_5654f_row3_col4\" class=\"data row3 col4\" >0.05</td>\n",
       "            </tr>\n",
       "            <tr>\n",
       "                        <th id=\"T_5654f_level0_row4\" class=\"row_heading level0 row4\" >foreign_passport</th>\n",
       "                        <td id=\"T_5654f_row4_col0\" class=\"data row4 col0\" >0.08</td>\n",
       "                        <td id=\"T_5654f_row4_col1\" class=\"data row4 col1\" >0.11</td>\n",
       "                        <td id=\"T_5654f_row4_col2\" class=\"data row4 col2\" >0.15</td>\n",
       "                        <td id=\"T_5654f_row4_col3\" class=\"data row4 col3\" >0.05</td>\n",
       "                        <td id=\"T_5654f_row4_col4\" class=\"data row4 col4\" >1.00</td>\n",
       "            </tr>\n",
       "    </tbody></table>"
      ],
      "text/plain": [
       "<pandas.io.formats.style.Styler at 0x25e6361ad30>"
      ]
     },
     "metadata": {},
     "output_type": "display_data"
    },
    {
     "name": "stdout",
     "output_type": "stream",
     "text": [
      "sex                  16.689435\n",
      "good_work            76.161578\n",
      "car                  83.689297\n",
      "car_type            170.851258\n",
      "foreign_passport    224.272659\n",
      "dtype: float64\n"
     ]
    },
    {
     "data": {
      "image/png": "[encoded data removed]",
      "text/plain": [
       "<Figure size 432x288 with 1 Axes>"
      ]
     },
     "metadata": {
      "needs_background": "light"
     },
     "output_type": "display_data"
    }
   ],
   "source": [
    "# Посмотрим корреляцию между карегоральными признаками и их значимость\n",
    "plot_corr_heatmap(df[['sex', 'car', 'car_type', 'good_work', 'foreign_passport']])\n",
    "plot_feature_ranking(df[['sex', 'car', 'car_type', 'good_work', 'foreign_passport']])\n",
    "# Видим что признак car стоит исключить из модели из-за сильной коррелируемости с car_type и меньшей значимости"
   ]
  },
  {
   "cell_type": "code",
   "execution_count": 88,
   "id": "3c59f52a",
   "metadata": {},
   "outputs": [
    {
     "name": "stdout",
     "output_type": "stream",
     "text": [
      "Размерность бинарных признаков: (18744, 4)\n"
     ]
    }
   ],
   "source": [
    "# Запишем значимые бинарные признаки в переменную numpy\n",
    "X_bin = df[['sex', 'car_type', 'good_work', 'foreign_passport']].values\n",
    "\n",
    "print('Размерность бинарных признаков: {}'.format(X_bin.shape))"
   ]
  },
  {
   "cell_type": "markdown",
   "id": "0295a61b",
   "metadata": {},
   "source": [
    "# Моделирование"
   ]
  },
  {
   "cell_type": "code",
   "execution_count": 89,
   "id": "283a405e",
   "metadata": {},
   "outputs": [
    {
     "name": "stdout",
     "output_type": "stream",
     "text": [
      "ROC AUC = 0.734\n",
      "Confusion matrix:\n",
      "[[1248  614]\n",
      " [ 630 1257]]\n",
      "Accuracy score = 0.668\n",
      "Precision score = 0.672\n",
      "Recall score = 0.666\n",
      "f1 score = 0.669\n"
     ]
    },
    {
     "data": {
      "image/png": "[encoded data removed]",
      "text/plain": [
       "<Figure size 432x288 with 1 Axes>"
      ]
     },
     "metadata": {
      "needs_background": "light"
     },
     "output_type": "display_data"
    }
   ],
   "source": [
    "X = np.hstack([X_num, X_cat, X_bin])\n",
    "Y = df['default'].values\n",
    "\n",
    "X_train, X_val, y_train, y_val = train_test_split(X, Y, test_size=0.20, random_state=42)\n",
    "\n",
    "model = LogisticRegression()\n",
    "model.fit(X_train, y_train)\n",
    "\n",
    "probs = model.predict_proba(X_val)\n",
    "probs = probs[:,1]\n",
    "\n",
    "fpr, tpr, threshold = roc_curve(y_val, probs)\n",
    "roc_auc = roc_auc_score(y_val, probs)\n",
    "\n",
    "plt.figure()\n",
    "plt.plot([0, 1], label='Baseline', linestyle='--')\n",
    "plt.plot(fpr, tpr, label = 'Regression')\n",
    "plt.title('Logistic Regression ROC AUC = %0.3f' % roc_auc)\n",
    "plt.ylabel('True Positive Rate')\n",
    "plt.xlabel('False Positive Rate')\n",
    "plt.legend(loc = 'lower right')\n",
    "plt.show()\n",
    "\n",
    "print('ROC AUC = {:.3f}'.format(roc_auc))\n",
    "\n",
    "y_predicted = model.predict(X_val)\n",
    "\n",
    "conf_mat = confusion_matrix(y_val, y_predicted)\n",
    "print('Confusion matrix:\\n{}'.format(conf_mat))\n",
    "\n",
    "print('Accuracy score = {:.3f}'.format(accuracy_score(y_val,y_predicted)))\n",
    "print('Precision score = {:.3f}'.format(precision_score(y_val,y_predicted)))\n",
    "print('Recall score = {:.3f}'.format(recall_score(y_val,y_predicted)))\n",
    "print('f1 score = {:.3f}'.format(f1_score(y_val,y_predicted)))"
   ]
  },
  {
   "cell_type": "markdown",
   "id": "bebd5e80",
   "metadata": {},
   "source": [
    "# Поиск гиперпараметров и их довавление в модель"
   ]
  },
  {
   "cell_type": "code",
   "execution_count": 90,
   "id": "929451cf",
   "metadata": {},
   "outputs": [
    {
     "name": "stdout",
     "output_type": "stream",
     "text": [
      "\tC: 1.0\n",
      "\tclass_weight: 'balanced'\n",
      "\tdual: False\n",
      "\tfit_intercept: True\n",
      "\tintercept_scaling: 1\n",
      "\tl1_ratio: None\n",
      "\tmax_iter: 50\n",
      "\tmulti_class: 'ovr'\n",
      "\tn_jobs: None\n",
      "\tpenalty: 'l1'\n",
      "\trandom_state: None\n",
      "\tsolver: 'liblinear'\n",
      "\ttol: 0.001\n",
      "\tverbose: 0\n",
      "\twarm_start: False\n",
      "ROC AUC = 0.734\n",
      "Confusion matrix:\n",
      "[[1246  616]\n",
      " [ 626 1261]]\n",
      "Accuracy score = 0.669\n",
      "Precision score = 0.672\n",
      "Recall score = 0.668\n",
      "f1 score = 0.670\n"
     ]
    },
    {
     "data": {
      "image/png": "[encoded data removed]",
      "text/plain": [
       "<Figure size 432x288 with 1 Axes>"
      ]
     },
     "metadata": {
      "needs_background": "light"
     },
     "output_type": "display_data"
    }
   ],
   "source": [
    "from sklearn.model_selection import GridSearchCV\n",
    "\n",
    "# Задаём критерии поиска по сетке\n",
    "iter_ = 50\n",
    "epsilon_stop = 1e-3\n",
    "\n",
    "param_grid = [\n",
    "    {'penalty': ['l1'], \n",
    "     'solver': ['liblinear', 'lbfgs'], \n",
    "     'class_weight':['none', 'balanced'], \n",
    "     'multi_class': ['auto','ovr'], \n",
    "     'max_iter':[iter_],\n",
    "     'tol':[epsilon_stop]},\n",
    "    {'penalty': ['l2'], \n",
    "     'solver': ['newton-cg', 'lbfgs', 'liblinear', 'sag', 'saga'], \n",
    "     'class_weight':['none', 'balanced'], \n",
    "     'multi_class': ['auto','ovr'], \n",
    "     'max_iter':[iter_],\n",
    "     'tol':[epsilon_stop]},\n",
    "    {'penalty': ['none'], \n",
    "     'solver': ['newton-cg', 'lbfgs', 'sag', 'saga'], \n",
    "     'class_weight':['none', 'balanced'], \n",
    "     'multi_class': ['auto','ovr'], \n",
    "     'max_iter':[iter_],\n",
    "     'tol':[epsilon_stop]},\n",
    "]\n",
    "\n",
    "# Ищем лучшие параметры и добавляем их в модель\n",
    "gridsearch = GridSearchCV(model, param_grid, scoring='f1', n_jobs=-1, cv=5)\n",
    "gridsearch.fit(X_train, y_train)\n",
    "model = gridsearch.best_estimator_\n",
    "\n",
    "# Печатаем параметры\n",
    "best_parameters = model.get_params()\n",
    "for param_name in sorted(best_parameters.keys()):\n",
    "        print('\\t%s: %r' % (param_name, best_parameters[param_name]))\n",
    "\n",
    "# Печатаем метрики полученые моделью с гиперпараметрами\n",
    "probs = model.predict_proba(X_val)\n",
    "probs = probs[:,1]\n",
    "\n",
    "fpr, tpr, threshold = roc_curve(y_val, probs)\n",
    "roc_auc = roc_auc_score(y_val, probs)\n",
    "\n",
    "plt.figure()\n",
    "plt.plot([0, 1], label='Baseline', linestyle='--')\n",
    "plt.plot(fpr, tpr, label = 'Regression')\n",
    "plt.title('Logistic Regression ROC AUC = %0.3f' % roc_auc)\n",
    "plt.ylabel('True Positive Rate')\n",
    "plt.xlabel('False Positive Rate')\n",
    "plt.legend(loc = 'lower right')\n",
    "plt.show()\n",
    "\n",
    "print('ROC AUC = {:.3f}'.format(roc_auc))\n",
    "\n",
    "y_predicted = model.predict(X_val)\n",
    "\n",
    "conf_mat = confusion_matrix(y_val, y_predicted)\n",
    "print('Confusion matrix:\\n{}'.format(conf_mat))\n",
    "\n",
    "print('Accuracy score = {:.3f}'.format(accuracy_score(y_val,y_predicted)))\n",
    "print('Precision score = {:.3f}'.format(precision_score(y_val,y_predicted)))\n",
    "print('Recall score = {:.3f}'.format(recall_score(y_val,y_predicted)))\n",
    "print('f1 score = {:.3f}'.format(f1_score(y_val,y_predicted)))"
   ]
  },
  {
   "cell_type": "markdown",
   "id": "d9875b0e",
   "metadata": {},
   "source": [
    "### Общие выводы\n",
    "1) Оценки в общем и целом получились сбалансированными хоть ROC AUC и невысок\n",
    "\n",
    "2) Чрезвычайно выжным моментом было устранение дисбаланса тестовой выборки для поднятия всех метрик на приемлемый уровень\n",
    "\n",
    "3) Сырые данные достаточно чистенькие, работы с ними было немного\n",
    "\n",
    "4) Удивительно что удаление выпросов имело негативный эфект \n",
    "\n",
    "5) Попытки генерации новых признаков из имеющихся не привели к значимому успеху\n",
    "\n",
    "6) Поиск и добавление гиперпараметров лишь незначительно улучшило метрики"
   ]
  },
  {
   "cell_type": "code",
   "execution_count": 91,
   "id": "91a11f31",
   "metadata": {},
   "outputs": [
    {
     "data": {
      "text/plain": [
       "array([0.23955626, 0.84887113, 0.36499068, ..., 0.85035966, 0.57776931,\n",
       "       0.76756554])"
      ]
     },
     "execution_count": 91,
     "metadata": {},
     "output_type": "execute_result"
    }
   ],
   "source": [
    "# Обрабатываем тестовые данные аналогичным образом и отправляем в модель\n",
    "\n",
    "test = pd.read_csv('C:/Users/enasy/Downloads/Project/test.csv')\n",
    "\n",
    "test['education'].fillna('SCH', inplace = True)\n",
    "\n",
    "test['app_date'] = pd.to_datetime(test['app_date'])\n",
    "earliest_app = test['app_date'].min()\n",
    "test['time_relevance'] = test['app_date'].apply(lambda x: (x-earliest_app).total_seconds())\n",
    "x_test = np.asmatrix(test['time_relevance'])\n",
    "x_scaled_test = MinMaxScaler().fit_transform(x_test.T)\n",
    "test['time_relevance'] = pd.DataFrame(x_scaled_test)\n",
    "test['time_relevance'].fillna(test['time_relevance'].mean(), inplace=True)\n",
    "        \n",
    "X_num_test = StandardScaler().fit_transform(test[['age', 'decline_app_cnt', 'score_bki', 'bki_request_cnt',\n",
    "                                           'region_rating', 'income', 'time_relevance']].values)\n",
    "\n",
    "test['education'].update(test['education'].apply(education_to_int))\n",
    "test['education'] = pd.to_numeric(test['education'])\n",
    "\n",
    "X_cat_test = OneHotEncoder(sparse = False).fit_transform(test[['education', 'work_address', 'home_address',\n",
    "                                                        'sna', 'first_time']].values)\n",
    "\n",
    "for column in test[['sex', 'car', 'car_type', 'good_work', 'foreign_passport']]:\n",
    "    test[column] = label_encoder.fit_transform(test[column])\n",
    "\n",
    "X_bin_test = test[['sex', 'car_type', 'good_work', 'foreign_passport']].values\n",
    "\n",
    "X_test = np.hstack([X_num_test, X_cat_test, X_bin_test])\n",
    "\n",
    "predicted_val = model.predict_proba(X_test)\n",
    "predicted_val = predicted_val[:,1]\n",
    "\n",
    "predicted_val"
   ]
  },
  {
   "cell_type": "code",
   "execution_count": 92,
   "id": "70617a60",
   "metadata": {},
   "outputs": [
    {
     "data": {
      "text/html": [
       "<div>\n",
       "<style scoped>\n",
       "    .dataframe tbody tr th:only-of-type {\n",
       "        vertical-align: middle;\n",
       "    }\n",
       "\n",
       "    .dataframe tbody tr th {\n",
       "        vertical-align: top;\n",
       "    }\n",
       "\n",
       "    .dataframe thead th {\n",
       "        text-align: right;\n",
       "    }\n",
       "</style>\n",
       "<table border=\"1\" class=\"dataframe\">\n",
       "  <thead>\n",
       "    <tr style=\"text-align: right;\">\n",
       "      <th></th>\n",
       "      <th>client_id</th>\n",
       "      <th>default</th>\n",
       "    </tr>\n",
       "  </thead>\n",
       "  <tbody>\n",
       "    <tr>\n",
       "      <th>0</th>\n",
       "      <td>74835</td>\n",
       "      <td>0.239556</td>\n",
       "    </tr>\n",
       "    <tr>\n",
       "      <th>1</th>\n",
       "      <td>17527</td>\n",
       "      <td>0.848871</td>\n",
       "    </tr>\n",
       "    <tr>\n",
       "      <th>2</th>\n",
       "      <td>75683</td>\n",
       "      <td>0.364991</td>\n",
       "    </tr>\n",
       "    <tr>\n",
       "      <th>3</th>\n",
       "      <td>26883</td>\n",
       "      <td>0.412787</td>\n",
       "    </tr>\n",
       "    <tr>\n",
       "      <th>4</th>\n",
       "      <td>28862</td>\n",
       "      <td>0.154758</td>\n",
       "    </tr>\n",
       "  </tbody>\n",
       "</table>\n",
       "</div>"
      ],
      "text/plain": [
       "   client_id   default\n",
       "0      74835  0.239556\n",
       "1      17527  0.848871\n",
       "2      75683  0.364991\n",
       "3      26883  0.412787\n",
       "4      28862  0.154758"
      ]
     },
     "execution_count": 92,
     "metadata": {},
     "output_type": "execute_result"
    }
   ],
   "source": [
    "# Сабмитим результат\n",
    "df_submission = pd.DataFrame(test['client_id'])\n",
    "df_submission['default'] = predicted_val\n",
    "df_submission.to_csv('submission.csv', index=False)\n",
    "df_submission.head()"
   ]
  }
 ],
 "metadata": {
  "kernelspec": {
   "display_name": "Python 3",
   "language": "python",
   "name": "python3"
  },
  "language_info": {
   "codemirror_mode": {
    "name": "ipython",
    "version": 3
   },
   "file_extension": ".py",
   "mimetype": "text/x-python",
   "name": "python",
   "nbconvert_exporter": "python",
   "pygments_lexer": "ipython3",
   "version": "3.8.8"
  }
 },
 "nbformat": 4,
 "nbformat_minor": 5
}
